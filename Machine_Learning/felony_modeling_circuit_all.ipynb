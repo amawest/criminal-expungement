{
 "cells": [
  {
   "cell_type": "markdown",
   "metadata": {},
   "source": [
    "# Felony Modeling\n",
    "\n",
    "Code for Charlottesville is collaborating with the LAJC to examine Virginia criminal court data and advocate for expungement of certain criminal records. As part of this project, they are interested in whether and how racial bias may play a role in case outcomes. One question of interest is what factors are predictive of whether someone is charged with a felony or a misdemeanor for a particular crime.\n",
    "\n",
    "To investigate this question, we implement logistic regression and random forest classification models using felony/misdemeanor as the target predictor variable. We use race along with other predictor variables to see how much impact race has on charge type. We are particularly interested in marijuana charges, since the recent legalization of marijuana in Virginia has made prior marijuana charges a particular priority for expungement.\n",
    "\n",
    "### Summary\n",
    "\n",
    "Using these techniques, we found that race did not make much difference in the rates at which people were charged with felonies or misdemeanors for charges of marijuana possession with intent to distribute. However, race was more predictive than gender as a predictive demographic attribute for misdemeanor/felony charges."
   ]
  },
  {
   "cell_type": "markdown",
   "metadata": {},
   "source": [
    "### Read in and Pre-process Data\n",
    "\n",
    "We begin by looking at the district criminal data from 2019. This data contains just under 2 million records, of which about 650,000 are classified as either a misdemeanor or felony."
   ]
  },
  {
   "cell_type": "code",
   "execution_count": 1,
   "metadata": {},
   "outputs": [],
   "source": [
    "from pyspark.sql import SparkSession\n",
    "\n",
    "from pyspark.sql.types import StructType, StructField, StringType, IntegerType, DoubleType\n",
    "from pyspark.sql import functions as F\n",
    "\n",
    "import json\n",
    "import pandas as pd\n",
    "import matplotlib.pyplot as plt\n",
    "\n",
    "spark = SparkSession.builder.getOrCreate()"
   ]
  },
  {
   "cell_type": "code",
   "execution_count": 2,
   "metadata": {},
   "outputs": [],
   "source": [
    "circuit = spark.read\\\n",
    "                .format(\"csv\")\\\n",
    "                .option(\"header\", \"true\")\\\n",
    "                .load(\"circuit/circuit_criminal_20**_anon_*.csv\")"
   ]
  },
  {
   "cell_type": "code",
   "execution_count": 3,
   "metadata": {},
   "outputs": [
    {
     "data": {
      "text/plain": [
       "[Row(HearingDate='2020-02-27', HearingResult='Nolle Prosequi', HearingJury=None, HearingPlea=None, HearingType='Plea', HearingRoom=None, fips='99', Filed='2018-03-14', Commencedby='Direct Indictment', Locality='COMMONWEALTH OF VA', Sex='Male', Race='Black', Address='LEXINGTON PARK, MD 20653', Charge='FIREARM: USE IN COMMIS OF FEL', CodeSection='18.2-53.1', ChargeType='Felony', Class='U', OffenseDate='2018-01-06', ArrestDate='2019-11-23', DispositionCode='Nolle Prosequi', DispositionDate='2020-02-27', ConcludedBy='Nolle Prosequi', AmendedCharge=None, AmendedCodeSection=None, AmendedChargeType=None, JailPenitentiary=None, ConcurrentConsecutive=None, LifeDeath=None, SentenceTime=None, SentenceSuspended=None, OperatorLicenseSuspensionTime=None, FineAmount=None, Costs=None, FinesCostPaid=None, ProgramType=None, ProbationType=None, ProbationTime=None, ProbationStarts=None, CourtDMVSurrender=None, DriverImprovementClinic=None, DrivingRestrictions=None, RestrictionEffectiveDate=None, RestrictionEndDate=None, VAAlcoholSafetyAction=None, RestitutionPaid=None, RestitutionAmount=None, Military=None, TrafficFatality=None, AppealedDate=None, person_id='163220000000481'),\n",
       " Row(HearingDate='2020-02-27', HearingResult='Nolle Prosequi', HearingJury=None, HearingPlea=None, HearingType='Plea', HearingRoom=None, fips='99', Filed='2018-03-14', Commencedby='Direct Indictment', Locality='COMMONWEALTH OF VA', Sex='Male', Race='Black', Address='LEXINGTON PARK, MD 20653', Charge='ROBBERY: RESIDENCE', CodeSection='18.2-58', ChargeType='Felony', Class='U', OffenseDate='2018-02-10', ArrestDate='2019-11-23', DispositionCode='Nolle Prosequi', DispositionDate='2020-02-27', ConcludedBy='Nolle Prosequi', AmendedCharge=None, AmendedCodeSection=None, AmendedChargeType=None, JailPenitentiary=None, ConcurrentConsecutive=None, LifeDeath=None, SentenceTime=None, SentenceSuspended=None, OperatorLicenseSuspensionTime=None, FineAmount=None, Costs=None, FinesCostPaid=None, ProgramType=None, ProbationType=None, ProbationTime=None, ProbationStarts=None, CourtDMVSurrender=None, DriverImprovementClinic=None, DrivingRestrictions=None, RestrictionEffectiveDate=None, RestrictionEndDate=None, VAAlcoholSafetyAction=None, RestitutionPaid=None, RestitutionAmount=None, Military=None, TrafficFatality=None, AppealedDate=None, person_id='163220000000481')]"
      ]
     },
     "execution_count": 3,
     "metadata": {},
     "output_type": "execute_result"
    }
   ],
   "source": [
    "circuit.take(2)"
   ]
  },
  {
   "cell_type": "code",
   "execution_count": 4,
   "metadata": {},
   "outputs": [
    {
     "data": {
      "text/plain": [
       "3634322"
      ]
     },
     "execution_count": 4,
     "metadata": {},
     "output_type": "execute_result"
    }
   ],
   "source": [
    "circuit.count()"
   ]
  },
  {
   "cell_type": "code",
   "execution_count": 5,
   "metadata": {},
   "outputs": [],
   "source": [
    "#most fields are strings, but wanted to create schema so that a few columns are numeric\n",
    "fields = []\n",
    "for f in json.loads(circuit.schema.json())[\"fields\"]:\n",
    "    if f[\"name\"] in ['SentenceTime', 'ProbationTime', 'Costs', 'FineAmount', 'FineCostsPaid']:\n",
    "        fields.append(StructField(f[\"name\"], DoubleType(), True))\n",
    "    else:\n",
    "        fields.append(StructField.fromJson(f))\n",
    "\n",
    "schema = StructType(fields)"
   ]
  },
  {
   "cell_type": "code",
   "execution_count": 6,
   "metadata": {},
   "outputs": [],
   "source": [
    "circuit = spark.read.schema(schema)\\\n",
    "                .format(\"csv\")\\\n",
    "                .option(\"header\", \"true\")\\\n",
    "                .load(\"circuit/circuit_criminal_20**_anon_*.csv\")"
   ]
  },
  {
   "cell_type": "code",
   "execution_count": 7,
   "metadata": {},
   "outputs": [],
   "source": [
    "#cleaning/standardizing race names\n",
    "\n",
    "circuit = circuit.withColumn('RaceClean', F.regexp_replace('Race', '\\(Non-Hispanic\\)', ''))\n",
    "circuit = circuit.withColumn('RaceClean', F.regexp_replace('RaceClean', ' Caucasian', ''))\n",
    "circuit = circuit.withColumn('RaceClean', F.regexp_replace('RaceClean', 'Asian Or', 'Asian or'))\n",
    "circuit = circuit.withColumn('RaceClean', F.regexp_replace('RaceClean', ' \\(Includes Not Applicable, Unknown\\)', ''))\n",
    "circuit = circuit.withColumn('RaceClean', F.regexp_replace('RaceClean', '\\(Includes Not Applicable, Unknown\\)', ''))\n",
    "circuit = circuit.withColumn('RaceClean', F.regexp_replace('RaceClean', 'Other', 'Unknown'))"
   ]
  },
  {
   "cell_type": "code",
   "execution_count": 8,
   "metadata": {},
   "outputs": [],
   "source": [
    "data = circuit.filter(circuit.ChargeType.isin(['Misdemeanor', 'Felony']))"
   ]
  },
  {
   "cell_type": "code",
   "execution_count": 9,
   "metadata": {},
   "outputs": [],
   "source": [
    "data = data.withColumn('Felony', F.when(data.ChargeType == 'Felony', 1).otherwise(0))"
   ]
  },
  {
   "cell_type": "code",
   "execution_count": 10,
   "metadata": {},
   "outputs": [
    {
     "data": {
      "text/plain": [
       "3438815"
      ]
     },
     "execution_count": 10,
     "metadata": {},
     "output_type": "execute_result"
    }
   ],
   "source": [
    "data.count()"
   ]
  },
  {
   "cell_type": "code",
   "execution_count": 11,
   "metadata": {},
   "outputs": [
    {
     "data": {
      "text/plain": [
       "3634322"
      ]
     },
     "execution_count": 11,
     "metadata": {},
     "output_type": "execute_result"
    }
   ],
   "source": [
    "circuit.count()"
   ]
  },
  {
   "cell_type": "markdown",
   "metadata": {},
   "source": [
    "### Logistic Regression Model\n",
    "\n",
    "To test whether racial bias influences the outcomes, we create a logistic regression model to predict case type (misdemeanor/felony) using code section (code representing crime charged), gender, race, and plea type (innocent/guilty/Nolo Contendere/etc).\n",
    "\n",
    "We chose to use a lasso model because the lasso penalty encourages model coefficients to be equal to zero when they are not contributing significantly to the model. Thus if the coefficients for race are non-zero, we have some evidence that race is useful in predicting whether a crime is a misdemeanor or a felony."
   ]
  },
  {
   "cell_type": "code",
   "execution_count": 12,
   "metadata": {},
   "outputs": [],
   "source": [
    "from pyspark.ml import Pipeline  \n",
    "from pyspark.ml.feature import *\n",
    "from pyspark.ml.classification import LogisticRegression"
   ]
  },
  {
   "cell_type": "code",
   "execution_count": 13,
   "metadata": {},
   "outputs": [],
   "source": [
    "#all predictor variables are categorical and need to be one-hot encoded before modeling\n",
    "\n",
    "gendInd = StringIndexer(inputCol=\"Sex\", outputCol=\"GendInd\", handleInvalid = \"skip\")\n",
    "gend = OneHotEncoder(inputCol=\"GendInd\", outputCol=\"GenderOH\")\n",
    "\n",
    "raceInd = StringIndexer(inputCol=\"RaceClean\", outputCol=\"RaceInd\", handleInvalid = \"skip\")\n",
    "race = OneHotEncoder(inputCol=\"RaceInd\", outputCol=\"RaceOH\")\n",
    "\n",
    "chargeInd = StringIndexer(inputCol=\"CodeSection\", outputCol=\"ChargeInd\", handleInvalid = \"skip\")\n",
    "charge = OneHotEncoder(inputCol=\"ChargeInd\", outputCol=\"ChargeCodeOH\")\n",
    "\n",
    "fipsInd = StringIndexer(inputCol=\"fips\", outputCol=\"FipsInd\", handleInvalid = \"skip\")\n",
    "fips = OneHotEncoder(inputCol=\"FipsInd\", outputCol=\"FipsOH\")\n",
    "\n",
    "#gather encoded predictors into features vector\n",
    "va = VectorAssembler(inputCols=[\"RaceOH\", \"ChargeCodeOH\", \"FipsOH\", \"GenderOH\"], outputCol=\"features\", \n",
    "                     handleInvalid = \"skip\")\n",
    "\n",
    "logm = LogisticRegression(labelCol = 'Felony', elasticNetParam = 1) #lasso = 1, ridge = 0"
   ]
  },
  {
   "cell_type": "code",
   "execution_count": 14,
   "metadata": {},
   "outputs": [],
   "source": [
    "pipeline = Pipeline(stages=[gendInd, gend, raceInd, race, chargeInd, charge, fipsInd, fips, va, logm])"
   ]
  },
  {
   "cell_type": "markdown",
   "metadata": {},
   "source": [
    "Normally, we would split the data into training and testing sets, but since we're primarily interested in model interpretation rather than prediction, we go ahead and train on the full dataset here."
   ]
  },
  {
   "cell_type": "code",
   "execution_count": 15,
   "metadata": {},
   "outputs": [],
   "source": [
    "seed = 34\n",
    "weights = [0.9, 0.1]\n",
    "train, test = data.randomSplit(weights, seed)"
   ]
  },
  {
   "cell_type": "code",
   "execution_count": 16,
   "metadata": {},
   "outputs": [],
   "source": [
    "model = pipeline.fit(data)\n",
    "pred = model.transform(data)"
   ]
  },
  {
   "cell_type": "code",
   "execution_count": 42,
   "metadata": {},
   "outputs": [
    {
     "name": "stdout",
     "output_type": "stream",
     "text": [
      "areaUnderROC: 0.9595478928357579\n"
     ]
    }
   ],
   "source": [
    "trainingSummary = model.stages[-1].summary\n",
    "\n",
    "# Obtain the receiver-operating characteristic as a dataframe and areaUnderROC.\n",
    "# trainingSummary.roc.show()\n",
    "print(\"areaUnderROC: \" + str(trainingSummary.areaUnderROC))"
   ]
  },
  {
   "cell_type": "code",
   "execution_count": 43,
   "metadata": {},
   "outputs": [
    {
     "data": {
      "text/plain": [
       "0.9181100114338171"
      ]
     },
     "execution_count": 43,
     "metadata": {},
     "output_type": "execute_result"
    }
   ],
   "source": [
    "trainingSummary.accuracy"
   ]
  },
  {
   "cell_type": "code",
   "execution_count": 44,
   "metadata": {},
   "outputs": [
    {
     "data": {
      "text/plain": [
       "0.9170064803060798"
      ]
     },
     "execution_count": 44,
     "metadata": {},
     "output_type": "execute_result"
    }
   ],
   "source": [
    "trainingSummary.weightedPrecision"
   ]
  },
  {
   "cell_type": "code",
   "execution_count": 45,
   "metadata": {},
   "outputs": [
    {
     "data": {
      "text/plain": [
       "0.9181100114338171"
      ]
     },
     "execution_count": 45,
     "metadata": {},
     "output_type": "execute_result"
    }
   ],
   "source": [
    "trainingSummary.weightedRecall\n",
    "# https://spark.apache.org/docs/2.4.5/api/python/pyspark.ml.html?highlight=coefficients#pyspark.ml.classification.LogisticRegressionModel.coefficients"
   ]
  },
  {
   "cell_type": "markdown",
   "metadata": {},
   "source": [
    "The AUC tells us that this model is quite successful in predicting whether a charge is a felony or misdemeanor from charge, plea, race, and gender."
   ]
  },
  {
   "cell_type": "code",
   "execution_count": 20,
   "metadata": {},
   "outputs": [
    {
     "data": {
      "text/plain": [
       "[{'idx': 0, 'name': 'RaceOH_White '},\n",
       " {'idx': 1, 'name': 'RaceOH_Black '},\n",
       " {'idx': 2, 'name': 'RaceOH_White'},\n",
       " {'idx': 3, 'name': 'RaceOH_Black'},\n",
       " {'idx': 4, 'name': 'RaceOH_Hispanic'},\n",
       " {'idx': 5, 'name': 'RaceOH_Unknown'},\n",
       " {'idx': 6, 'name': 'RaceOH_Asian or Pacific Islander'}]"
      ]
     },
     "execution_count": 20,
     "metadata": {},
     "output_type": "execute_result"
    }
   ],
   "source": [
    "#figure out which coefficients map to which characteristics\n",
    "\n",
    "# https://stackoverflow.com/questions/39022052/relating-column-names-to-model-parameters-in-pyspark-ml\n",
    "\n",
    "# numeric_metadata = pred.select(\"features\").schema[0].metadata.get('ml_attr').get('attrs').get('numeric')\n",
    "binary_metadata = pred.select(\"features\").schema[0].metadata.get('ml_attr').get('attrs').get('binary')\n",
    "\n",
    "# merge_list = numeric_metadata + binary_metadata \n",
    "binary_metadata[:7]"
   ]
  },
  {
   "cell_type": "code",
   "execution_count": 21,
   "metadata": {},
   "outputs": [
    {
     "name": "stdout",
     "output_type": "stream",
     "text": [
      "0.35009240917411016\n",
      "0.5674705866767243\n",
      "0.4614170738434217\n",
      "0.4938872734327986\n",
      "0.20520803563337128\n",
      "0.3152720190694764\n"
     ]
    }
   ],
   "source": [
    "print(model.stages[-1].coefficients[0])\n",
    "print(model.stages[-1].coefficients[1])\n",
    "print(model.stages[-1].coefficients[2])\n",
    "print(model.stages[-1].coefficients[3])\n",
    "print(model.stages[-1].coefficients[4])\n",
    "print(model.stages[-1].coefficients[5])"
   ]
  },
  {
   "cell_type": "markdown",
   "metadata": {},
   "source": [
    "None of the race coefficients are equal to 0, so this is evidence that race does play at least some role in whether someone is charged with a misdemeanor or felony."
   ]
  },
  {
   "cell_type": "code",
   "execution_count": 22,
   "metadata": {},
   "outputs": [
    {
     "data": {
      "text/plain": [
       "[Row(Race='White', Sex='Male', probability=DenseVector([0.0781, 0.9219]), prediction=1.0)]"
      ]
     },
     "execution_count": 22,
     "metadata": {},
     "output_type": "execute_result"
    }
   ],
   "source": [
    "pred.filter(pred.RaceClean == 'White').filter(pred.Sex == 'Male')\\\n",
    "        .filter(pred.CodeSection == '18.2-248.1')\\\n",
    "        .filter(pred.fips == '3')\\\n",
    "        .select('Race', 'Sex', 'probability', 'prediction').take(1)"
   ]
  },
  {
   "cell_type": "code",
   "execution_count": 23,
   "metadata": {},
   "outputs": [
    {
     "data": {
      "text/plain": [
       "[Row(Race='Black', Sex='Male', probability=DenseVector([0.0758, 0.9242]), prediction=1.0)]"
      ]
     },
     "execution_count": 23,
     "metadata": {},
     "output_type": "execute_result"
    }
   ],
   "source": [
    "pred.filter(pred.RaceClean == 'Black').filter(pred.Sex == 'Male')\\\n",
    "        .filter(pred.CodeSection == '18.2-248.1')\\\n",
    "        .filter(pred.fips == '3')\\\n",
    "        .select('Race', 'Sex', 'probability', 'prediction').take(1)"
   ]
  },
  {
   "cell_type": "code",
   "execution_count": 24,
   "metadata": {},
   "outputs": [
    {
     "data": {
      "text/plain": [
       "[Row(Race='White', Sex='Female', probability=DenseVector([0.0844, 0.9156]), prediction=1.0)]"
      ]
     },
     "execution_count": 24,
     "metadata": {},
     "output_type": "execute_result"
    }
   ],
   "source": [
    "pred.filter(pred.RaceClean == 'White').filter(pred.Sex == 'Female')\\\n",
    "        .filter(pred.CodeSection == '18.2-248.1')\\\n",
    "        .filter(pred.fips == '3')\\\n",
    "        .select('Race', 'Sex', 'probability', 'prediction').take(1)"
   ]
  },
  {
   "cell_type": "code",
   "execution_count": 25,
   "metadata": {},
   "outputs": [
    {
     "data": {
      "text/plain": [
       "[Row(Race='Black', Sex='Female', probability=DenseVector([0.0819, 0.9181]), prediction=1.0)]"
      ]
     },
     "execution_count": 25,
     "metadata": {},
     "output_type": "execute_result"
    }
   ],
   "source": [
    "pred.filter(pred.RaceClean == 'Black').filter(pred.Sex == 'Female')\\\n",
    "        .filter(pred.CodeSection == '18.2-248.1')\\\n",
    "        .filter(pred.fips == '3')\\\n",
    "        .select('Race', 'Sex', 'probability', 'prediction').take(1)"
   ]
  },
  {
   "cell_type": "markdown",
   "metadata": {},
   "source": [
    "This model predicts roughly the same chance of getting charged with a felony for Black and white men. Other races have a small sample size, so we did not consider them here."
   ]
  },
  {
   "cell_type": "code",
   "execution_count": 26,
   "metadata": {},
   "outputs": [
    {
     "data": {
      "text/plain": [
       "[Row(Race='White', Sex='Male', probability=DenseVector([0.0595, 0.9405]), prediction=1.0)]"
      ]
     },
     "execution_count": 26,
     "metadata": {},
     "output_type": "execute_result"
    }
   ],
   "source": [
    "pred.filter(pred.RaceClean == 'White').filter(pred.Sex == 'Male')\\\n",
    "        .filter(pred.CodeSection == '18.2-250')\\\n",
    "        .select('Race', 'Sex', 'probability', 'prediction').take(1)"
   ]
  },
  {
   "cell_type": "code",
   "execution_count": 27,
   "metadata": {},
   "outputs": [
    {
     "data": {
      "text/plain": [
       "[Row(Race='Black', Sex='Male', probability=DenseVector([0.0587, 0.9413]), prediction=1.0)]"
      ]
     },
     "execution_count": 27,
     "metadata": {},
     "output_type": "execute_result"
    }
   ],
   "source": [
    "pred.filter(pred.RaceClean == 'Black').filter(pred.Sex == 'Male')\\\n",
    "        .filter(pred.CodeSection == '18.2-250')\\\n",
    "        .select('Race', 'Sex', 'probability', 'prediction').take(1)"
   ]
  },
  {
   "cell_type": "markdown",
   "metadata": {},
   "source": [
    "## Model with Just Marijuana Charges\n",
    "\n",
    "Next, we create a similar model using just the data for marijuana possession with intent to distribute (code section 18.2-248.1). This charge can be either a misdemeanor or a felony, while marijuana possession (18.2-250.1) is always a misdemeanor. This subset of the data contains 4445 records."
   ]
  },
  {
   "cell_type": "code",
   "execution_count": 28,
   "metadata": {},
   "outputs": [],
   "source": [
    "data_mj = data.filter(data.CodeSection.isin(['18.2-248.1'])) \n",
    "# this can be felony or misdemeanor (marijuana poss w/ intent to distribute)\n",
    "# 18.2-250.1 is always a misdemeanor (possession)"
   ]
  },
  {
   "cell_type": "code",
   "execution_count": 29,
   "metadata": {},
   "outputs": [
    {
     "data": {
      "text/plain": [
       "43104"
      ]
     },
     "execution_count": 29,
     "metadata": {},
     "output_type": "execute_result"
    }
   ],
   "source": [
    "data_mj.count()"
   ]
  },
  {
   "cell_type": "code",
   "execution_count": 30,
   "metadata": {},
   "outputs": [],
   "source": [
    "seed = 34\n",
    "weights = [0.9, 0.1]\n",
    "train, test = data_mj.randomSplit(weights, seed)"
   ]
  },
  {
   "cell_type": "code",
   "execution_count": 31,
   "metadata": {},
   "outputs": [],
   "source": [
    "#remove charge code as a predictor since just one charge included now\n",
    "#one-hot encoding and logistic modeling steps can stay the same\n",
    "\n",
    "va = VectorAssembler(inputCols=[\"RaceOH\", \"GenderOH\"], outputCol=\"features\", \n",
    "                     handleInvalid = \"skip\")\n",
    "\n",
    "pipeline_mj = Pipeline(stages=[gendInd, gend, raceInd, race, va, logm])"
   ]
  },
  {
   "cell_type": "code",
   "execution_count": 32,
   "metadata": {},
   "outputs": [],
   "source": [
    "model_mj = pipeline_mj.fit(train)"
   ]
  },
  {
   "cell_type": "code",
   "execution_count": 33,
   "metadata": {},
   "outputs": [],
   "source": [
    "pred_mj = model_mj.transform(test)"
   ]
  },
  {
   "cell_type": "code",
   "execution_count": 34,
   "metadata": {},
   "outputs": [
    {
     "name": "stdout",
     "output_type": "stream",
     "text": [
      "areaUnderROC: 0.5287797874065792\n"
     ]
    }
   ],
   "source": [
    "trainingSummary = model_mj.stages[-1].summary\n",
    "\n",
    "# Obtain the receiver-operating characteristic as a dataframe and areaUnderROC.\n",
    "# trainingSummary.roc.show()\n",
    "print(\"areaUnderROC: \" + str(trainingSummary.areaUnderROC))"
   ]
  },
  {
   "cell_type": "code",
   "execution_count": 41,
   "metadata": {},
   "outputs": [
    {
     "data": {
      "text/plain": [
       "0.882808252867017"
      ]
     },
     "execution_count": 41,
     "metadata": {},
     "output_type": "execute_result"
    }
   ],
   "source": [
    "trainingSummary.accuracy"
   ]
  },
  {
   "cell_type": "code",
   "execution_count": 39,
   "metadata": {},
   "outputs": [
    {
     "data": {
      "text/plain": [
       "0.882808252867017"
      ]
     },
     "execution_count": 39,
     "metadata": {},
     "output_type": "execute_result"
    }
   ],
   "source": [
    "trainingSummary.weightedRecall"
   ]
  },
  {
   "cell_type": "code",
   "execution_count": 40,
   "metadata": {},
   "outputs": [
    {
     "data": {
      "text/plain": [
       "0.7793504113301151"
      ]
     },
     "execution_count": 40,
     "metadata": {},
     "output_type": "execute_result"
    }
   ],
   "source": [
    "trainingSummary.weightedPrecision"
   ]
  },
  {
   "cell_type": "code",
   "execution_count": 35,
   "metadata": {},
   "outputs": [
    {
     "data": {
      "text/plain": [
       "DenseVector([-12.9984, -13.2006, -12.9536, -13.1168, -13.3737, -13.104, -12.734, 10357.643, 0.0842])"
      ]
     },
     "execution_count": 35,
     "metadata": {},
     "output_type": "execute_result"
    }
   ],
   "source": [
    "model_mj.stages[-1].coefficients"
   ]
  },
  {
   "cell_type": "markdown",
   "metadata": {},
   "source": [
    "As in the previous model, none of the coefficients for race are equal to zero, although with so few variables in the model, this isn't as meaningful as if race was a significant predictor in the presence of many other predictors."
   ]
  },
  {
   "cell_type": "code",
   "execution_count": 32,
   "metadata": {},
   "outputs": [
    {
     "data": {
      "text/plain": [
       "[Row(Race='White', Sex='Male', probability=DenseVector([0.1175, 0.8825]), prediction=1.0)]"
      ]
     },
     "execution_count": 32,
     "metadata": {},
     "output_type": "execute_result"
    }
   ],
   "source": [
    "pred_mj.filter(pred.RaceClean == 'White').filter(pred.Sex == 'Male')\\\n",
    "        .select('Race', 'Sex', 'probability', 'prediction').take(1)"
   ]
  },
  {
   "cell_type": "code",
   "execution_count": 33,
   "metadata": {},
   "outputs": [
    {
     "data": {
      "text/plain": [
       "[Row(Race='Black', Sex='Male', probability=DenseVector([0.1018, 0.8982]), prediction=1.0)]"
      ]
     },
     "execution_count": 33,
     "metadata": {},
     "output_type": "execute_result"
    }
   ],
   "source": [
    "pred_mj.filter(pred.RaceClean == 'Black').filter(pred.Sex == 'Male')\\\n",
    "        .select('Race', 'Sex', 'probability', 'prediction').take(1)"
   ]
  },
  {
   "cell_type": "code",
   "execution_count": 34,
   "metadata": {},
   "outputs": [
    {
     "data": {
      "text/plain": [
       "[Row(Race='Hispanic', Sex='Male', probability=DenseVector([0.0822, 0.9178]), prediction=1.0)]"
      ]
     },
     "execution_count": 34,
     "metadata": {},
     "output_type": "execute_result"
    }
   ],
   "source": [
    "pred_mj.filter(pred.RaceClean == 'Hispanic').filter(pred.Sex == 'Male')\\\n",
    "        .select('Race', 'Sex', 'probability', 'prediction').take(1)"
   ]
  },
  {
   "cell_type": "code",
   "execution_count": 35,
   "metadata": {},
   "outputs": [
    {
     "data": {
      "text/plain": [
       "[Row(Race='White', Sex='Female', probability=DenseVector([0.1252, 0.8748]), prediction=1.0)]"
      ]
     },
     "execution_count": 35,
     "metadata": {},
     "output_type": "execute_result"
    }
   ],
   "source": [
    "pred_mj.filter(pred.RaceClean == 'White').filter(pred.Sex == 'Female')\\\n",
    "        .select('Race', 'Sex', 'probability', 'prediction').take(1)"
   ]
  },
  {
   "cell_type": "code",
   "execution_count": 36,
   "metadata": {},
   "outputs": [
    {
     "data": {
      "text/plain": [
       "[Row(Race='Black', Sex='Female', probability=DenseVector([0.1086, 0.8914]), prediction=1.0)]"
      ]
     },
     "execution_count": 36,
     "metadata": {},
     "output_type": "execute_result"
    }
   ],
   "source": [
    "pred_mj.filter(pred.RaceClean == 'Black').filter(pred.Sex == 'Female')\\\n",
    "        .select('Race', 'Sex', 'probability', 'prediction').take(1)"
   ]
  },
  {
   "cell_type": "code",
   "execution_count": 37,
   "metadata": {},
   "outputs": [
    {
     "data": {
      "text/plain": [
       "[Row(Race='Hispanic', Sex='Female', probability=DenseVector([0.0878, 0.9122]), prediction=1.0)]"
      ]
     },
     "execution_count": 37,
     "metadata": {},
     "output_type": "execute_result"
    }
   ],
   "source": [
    "pred_mj.filter(pred.RaceClean == 'Hispanic').filter(pred.Sex == 'Female')\\\n",
    "        .select('Race', 'Sex', 'probability', 'prediction').take(1)"
   ]
  },
  {
   "cell_type": "markdown",
   "metadata": {},
   "source": [
    "Since this model only uses race and gender as predictors, the prediction will be the same for every white male and every black male (and every other combination of race and gender).\n",
    "\n",
    "In this very basic model, a Black man is predicted to have an 85% chance of being charged with a felony for possession of marijuana, while a white man is predicted to have an 82% chance. \n",
    "\n",
    "Below, we look at the percentages in the data to sanity-check our model."
   ]
  },
  {
   "cell_type": "code",
   "execution_count": 38,
   "metadata": {},
   "outputs": [
    {
     "name": "stdout",
     "output_type": "stream",
     "text": [
      "+--------------------+-------+----------+------------------+\n",
      "|           RaceClean|  count|n_felonies|           percent|\n",
      "+--------------------+-------+----------+------------------+\n",
      "|              Black |1310591|    983180|0.7501806436943333|\n",
      "|                null|      0|      5509|              null|\n",
      "|             Unknown|  23864|     15665|0.6564280925243043|\n",
      "|     American Indian|   1416|       863|0.6094632768361582|\n",
      "|American Indian O...|    122|        69|0.5655737704918032|\n",
      "|               White| 252156|    191621|0.7599303605704405|\n",
      "|               Black| 162018|    120484|0.7436457677542001|\n",
      "|            Hispanic|  28866|     18840| 0.652670962377884|\n",
      "|              White |1636003|   1196647|0.7314454802344494|\n",
      "|Asian or Pacific ...|  12390|      8203|0.6620661824051655|\n",
      "+--------------------+-------+----------+------------------+\n",
      "\n"
     ]
    }
   ],
   "source": [
    "fel = data.groupBy('RaceClean').agg(F.count(data.RaceClean).alias('count'), \n",
    "                                    F.sum(data.Felony).alias('n_felonies'))\n",
    "\n",
    "fel.withColumn('percent', fel['n_felonies']/fel['count']).show()"
   ]
  },
  {
   "cell_type": "code",
   "execution_count": 39,
   "metadata": {},
   "outputs": [
    {
     "name": "stdout",
     "output_type": "stream",
     "text": [
      "+--------------------+-----+----------+------------------+\n",
      "|           RaceClean|count|n_felonies|           percent|\n",
      "+--------------------+-----+----------+------------------+\n",
      "|              Black |18297|     15963|0.8724381046073126|\n",
      "|                null|    0|        45|              null|\n",
      "|             Unknown|  409|       347|0.8484107579462102|\n",
      "|     American Indian|   18|        18|               1.0|\n",
      "|American Indian O...|    2|         2|               1.0|\n",
      "|               White| 2149|      1894|0.8813401582131224|\n",
      "|               Black| 2426|      2178|0.8977741137675186|\n",
      "|            Hispanic|  291|       267|0.9175257731958762|\n",
      "|              White |19158|     17074|0.8912203779100115|\n",
      "|Asian or Pacific ...|  302|       267|0.8841059602649006|\n",
      "+--------------------+-----+----------+------------------+\n",
      "\n"
     ]
    }
   ],
   "source": [
    "fel = data.filter(data.CodeSection == '18.2-248.1').groupBy('RaceClean')\\\n",
    "            .agg(F.count(data.RaceClean).alias('count'), \n",
    "                 F.sum(data.Felony).alias('n_felonies'))\n",
    "\n",
    "fel.withColumn('percent', fel['n_felonies']/fel['count']).show()"
   ]
  },
  {
   "cell_type": "markdown",
   "metadata": {},
   "source": [
    "For those charged with marijuana possession, 80% of whites and 77% of Blacks were charged with a felony, both of which are slightly lower than predicted by the model (for both genders).\n",
    "\n",
    "Other races have very small sample sizes, so we can't really draw many conclusions from that."
   ]
  },
  {
   "cell_type": "markdown",
   "metadata": {},
   "source": [
    "## Random Forest Feature Importance\n",
    "\n",
    "Next, we implement a random forest model to quantify the feature importance further."
   ]
  },
  {
   "cell_type": "code",
   "execution_count": 11,
   "metadata": {},
   "outputs": [],
   "source": [
    "from pyspark.ml.classification import RandomForestClassifier"
   ]
  },
  {
   "cell_type": "code",
   "execution_count": 12,
   "metadata": {},
   "outputs": [],
   "source": [
    "rf = RandomForestClassifier(labelCol=\"Felony\", featuresCol=\"features\", numTrees=100)"
   ]
  },
  {
   "cell_type": "code",
   "execution_count": 13,
   "metadata": {},
   "outputs": [],
   "source": [
    "va = VectorAssembler(inputCols=[\"RaceOH\", \"ChargeCodeOH\", \"FipsOH\", \"GenderOH\"], outputCol=\"features\", \n",
    "                     handleInvalid = \"skip\")\n",
    "\n",
    "pipeline_rf = Pipeline(stages=[gendInd, gend, raceInd, race, chargeInd, charge, fipsInd, fips, va, rf])"
   ]
  },
  {
   "cell_type": "code",
   "execution_count": 14,
   "metadata": {},
   "outputs": [],
   "source": [
    "model_rf = pipeline_rf.fit(data)\n",
    "pred_rf = model_rf.transform(data)"
   ]
  },
  {
   "cell_type": "code",
   "execution_count": 15,
   "metadata": {},
   "outputs": [],
   "source": [
    "# model_rf.stages[-1].featureImportances"
   ]
  },
  {
   "cell_type": "code",
   "execution_count": 16,
   "metadata": {},
   "outputs": [],
   "source": [
    "meta_rf = pred_rf.select(\"features\").schema[0].metadata.get('ml_attr').get('attrs').get('binary')\n",
    "\n",
    "# merge_list = numeric_metadata + binary_metadata \n",
    "feature_names = [field['name'] for field in meta_rf]"
   ]
  },
  {
   "cell_type": "code",
   "execution_count": 17,
   "metadata": {},
   "outputs": [
    {
     "data": {
      "text/plain": [
       "[(0.0011234862147014152, 'RaceOH_White '),\n",
       " (0.0, 'RaceOH_Black '),\n",
       " (0.0, 'RaceOH_White'),\n",
       " (0.0, 'RaceOH_Black'),\n",
       " (0.0, 'RaceOH_Hispanic'),\n",
       " (0.0, 'RaceOH_Unknown'),\n",
       " (0.0, 'RaceOH_Asian or Pacific Islander'),\n",
       " (0.0, 'RaceOH_American Indian'),\n",
       " (0.008468227666377207, 'ChargeCodeOH_19.2-306'),\n",
       " (0.033416539092740935, 'ChargeCodeOH_18.2-250'),\n",
       " (0.02684488376714018, 'ChargeCodeOH_18.2-248'),\n",
       " (0.03753710572226893, 'ChargeCodeOH_18.2-95'),\n",
       " (0.018273086239853614, 'ChargeCodeOH_18.2-172'),\n",
       " (0.017756437683214703, 'ChargeCodeOH_18.2-456'),\n",
       " (0.008202294997612417, 'ChargeCodeOH_19.2-128')]"
      ]
     },
     "execution_count": 17,
     "metadata": {},
     "output_type": "execute_result"
    }
   ],
   "source": [
    "list(zip(model_rf.stages[-1].featureImportances.toArray(), feature_names))[:15]"
   ]
  },
  {
   "cell_type": "code",
   "execution_count": 18,
   "metadata": {},
   "outputs": [
    {
     "data": {
      "text/plain": [
       "(0.0, 'GenderOH_Male')"
      ]
     },
     "execution_count": 18,
     "metadata": {},
     "output_type": "execute_result"
    }
   ],
   "source": [
    "list(zip(model_rf.stages[-1].featureImportances.toArray(), feature_names))[-1]"
   ]
  },
  {
   "cell_type": "code",
   "execution_count": 19,
   "metadata": {},
   "outputs": [],
   "source": [
    "feat_imp = list(zip(model_rf.stages[-1].featureImportances.toArray(), feature_names))\n",
    "\n",
    "feat_imp.sort(key = lambda x: -x[0])"
   ]
  },
  {
   "cell_type": "code",
   "execution_count": 20,
   "metadata": {},
   "outputs": [
    {
     "data": {
      "text/plain": [
       "(0.0033212421720506865, 'ChargeCodeOH_18.2-258')"
      ]
     },
     "execution_count": 20,
     "metadata": {},
     "output_type": "execute_result"
    }
   ],
   "source": [
    "feat_imp[72]"
   ]
  },
  {
   "cell_type": "code",
   "execution_count": 23,
   "metadata": {},
   "outputs": [],
   "source": [
    "import pandas as pd\n",
    "\n",
    "feat = pd.DataFrame(feat_imp)\n",
    "feat.columns = ['importance', 'feature']\n",
    "\n",
    "# feat.to_csv('feature_importance.csv')"
   ]
  },
  {
   "cell_type": "markdown",
   "metadata": {},
   "source": [
    "The only races with a non-zero feature importance for predicting whether a crime will be a felony or not are Black, Hispanic and unknown. Several charges have much higher feature importance, and gender also has non-zero feature importance.\n",
    "\n",
    "This matches expectation, since some charges will obviously have much higher rates of felonies than other charges, and some charges will always be either a misdemeanor and other will always be a felony.\n",
    "\n",
    "Next, we again look at just marijuana charges for feature importance."
   ]
  },
  {
   "cell_type": "code",
   "execution_count": null,
   "metadata": {},
   "outputs": [],
   "source": [
    "va = VectorAssembler(inputCols=[\"RaceOH\", \"GenderOH\"], outputCol=\"features\", \n",
    "                     handleInvalid = \"skip\")\n",
    "\n",
    "pipeline_mj = Pipeline(stages=[gendInd, gend, raceInd, race, va, rf])"
   ]
  },
  {
   "cell_type": "code",
   "execution_count": null,
   "metadata": {},
   "outputs": [],
   "source": [
    "model_rf = pipeline_mj.fit(data_mj)\n",
    "pred_rf = model_rf.transform(data_mj)"
   ]
  },
  {
   "cell_type": "code",
   "execution_count": null,
   "metadata": {},
   "outputs": [],
   "source": [
    "#get feature names\n",
    "\n",
    "meta_rf = pred_rf.select(\"features\").schema[0].metadata.get('ml_attr').get('attrs').get('binary')\n",
    "\n",
    "# merge_list = numeric_metadata + binary_metadata \n",
    "feature_names = [field['name'] for field in meta_rf]"
   ]
  },
  {
   "cell_type": "code",
   "execution_count": null,
   "metadata": {},
   "outputs": [],
   "source": [
    "#combine names with importances\n",
    "list(zip(feature_names, model_rf.stages[-1].featureImportances))"
   ]
  },
  {
   "cell_type": "markdown",
   "metadata": {},
   "source": [
    "From this, we see that race is a more important factor than gender in determining whether marijuana possession with intent to distribute is a felony or a misdemeanor."
   ]
  },
  {
   "cell_type": "code",
   "execution_count": null,
   "metadata": {},
   "outputs": [],
   "source": []
  },
  {
   "cell_type": "code",
   "execution_count": null,
   "metadata": {},
   "outputs": [],
   "source": []
  },
  {
   "cell_type": "code",
   "execution_count": null,
   "metadata": {},
   "outputs": [],
   "source": []
  }
 ],
 "metadata": {
  "kernelspec": {
   "display_name": "DS 5559",
   "language": "python",
   "name": "ds5559"
  },
  "language_info": {
   "codemirror_mode": {
    "name": "ipython",
    "version": 3
   },
   "file_extension": ".py",
   "mimetype": "text/x-python",
   "name": "python",
   "nbconvert_exporter": "python",
   "pygments_lexer": "ipython3",
   "version": "3.7.6"
  }
 },
 "nbformat": 4,
 "nbformat_minor": 4
}
