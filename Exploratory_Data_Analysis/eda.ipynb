{
 "cells": [
  {
   "cell_type": "markdown",
   "metadata": {},
   "source": [
    "# Final Project EDA\n",
    "\n",
    "Gaurav Anand, Shannon Paylor, Amamda West\n",
    "\n",
    "## Data\n",
    "\n",
    "For our project, we are using Virginia court [data](http://virginiacourtdata.org) from a Code for Charlottesville project with the LAJC. For our EDA, we only looked at data from 2019 circuit and district criminal court cases."
   ]
  },
  {
   "cell_type": "code",
   "execution_count": 1,
   "metadata": {},
   "outputs": [],
   "source": [
    "from pyspark.sql import SparkSession\n",
    "\n",
    "from pyspark.sql.types import StructType, StructField, StringType, IntegerType, DoubleType\n",
    "from pyspark.sql import functions as F\n",
    "\n",
    "import json\n",
    "import pandas as pd\n",
    "import matplotlib.pyplot as plt\n",
    "\n",
    "spark = SparkSession.builder.getOrCreate()"
   ]
  },
  {
   "cell_type": "code",
   "execution_count": 31,
   "metadata": {},
   "outputs": [],
   "source": [
    "circuit = spark.read.csv(\"circuit_criminal_2019_anon_00.csv\", header = True)"
   ]
  },
  {
   "cell_type": "code",
   "execution_count": 3,
   "metadata": {},
   "outputs": [],
   "source": [
    "district = spark.read\\\n",
    "                .format(\"csv\")\\\n",
    "                .option(\"header\", \"true\")\\\n",
    "                .load(\"district_criminal_2019_anon_*.csv\")"
   ]
  },
  {
   "cell_type": "code",
   "execution_count": 4,
   "metadata": {},
   "outputs": [],
   "source": [
    "#most fields are strings, but wanted to create schema so that a few columns are numeric\n",
    "fields = []\n",
    "for f in json.loads(district.schema.json())[\"fields\"]:\n",
    "    if f[\"name\"] in ['Fine', 'Costs', 'FineCostsDue', 'FineCostsPaid']:\n",
    "        fields.append(StructField(f[\"name\"], DoubleType(), True))\n",
    "    else:\n",
    "        fields.append(StructField.fromJson(f))\n",
    "\n",
    "schema = StructType(fields)"
   ]
  },
  {
   "cell_type": "code",
   "execution_count": 60,
   "metadata": {},
   "outputs": [],
   "source": [
    "district = spark.read.schema(schema)\\\n",
    "                .format(\"csv\")\\\n",
    "                .option(\"header\", \"true\")\\\n",
    "                .load(\"district_criminal_2019_anon_*.csv\")"
   ]
  },
  {
   "cell_type": "markdown",
   "metadata": {},
   "source": [
    "Number of records:"
   ]
  },
  {
   "cell_type": "code",
   "execution_count": 6,
   "metadata": {},
   "outputs": [
    {
     "data": {
      "text/plain": [
       "224258"
      ]
     },
     "execution_count": 6,
     "metadata": {},
     "output_type": "execute_result"
    }
   ],
   "source": [
    "circuit.count()"
   ]
  },
  {
   "cell_type": "code",
   "execution_count": 7,
   "metadata": {},
   "outputs": [
    {
     "data": {
      "text/plain": [
       "1947066"
      ]
     },
     "execution_count": 7,
     "metadata": {},
     "output_type": "execute_result"
    }
   ],
   "source": [
    "district.count()"
   ]
  },
  {
   "cell_type": "markdown",
   "metadata": {},
   "source": [
    "Number of columns:"
   ]
  },
  {
   "cell_type": "code",
   "execution_count": 10,
   "metadata": {},
   "outputs": [
    {
     "data": {
      "text/plain": [
       "50"
      ]
     },
     "execution_count": 10,
     "metadata": {},
     "output_type": "execute_result"
    }
   ],
   "source": [
    "len(circuit.columns)"
   ]
  },
  {
   "cell_type": "code",
   "execution_count": 11,
   "metadata": {},
   "outputs": [
    {
     "data": {
      "text/plain": [
       "42"
      ]
     },
     "execution_count": 11,
     "metadata": {},
     "output_type": "execute_result"
    }
   ],
   "source": [
    "len(district.columns)"
   ]
  },
  {
   "cell_type": "markdown",
   "metadata": {},
   "source": [
    "## Response Variable\n",
    "\n",
    "We haven't yet decided what we will use as our response variable, as the Code for Charlottesville goals for the project are more focused on descriptive statistics. At the moment, the most probable choice for response variable is `HearingResult`.\n",
    "\n",
    "Statistical summary of response variable:"
   ]
  },
  {
   "cell_type": "code",
   "execution_count": 73,
   "metadata": {},
   "outputs": [
    {
     "name": "stdout",
     "output_type": "stream",
     "text": [
      "+--------------------+-----+--------------------+\n",
      "|       HearingResult|count|             percent|\n",
      "+--------------------+-----+--------------------+\n",
      "|Deferred Disposition|   96|4.280783740156427E-4|\n",
      "|Not Guilty By Rea...|  105|4.682107215796092E-4|\n",
      "|Stet Process Dock...|  223|9.943903896405034E-4|\n",
      "|           Continued|    1|4.459149729329611...|\n",
      "|Drug Court, Conti...|   39|1.739068394438548...|\n",
      "|        Carried Over|   24|1.070195935039106...|\n",
      "|             Not Set|  914|0.004075662852607265|\n",
      "|        Joint Motion|    7|3.121404810530728E-5|\n",
      "|Ordered Into Drug...|   89|3.968643259103354E-4|\n",
      "|           True Bill|  168|7.491371545273747E-4|\n",
      "|Drug Court, Compl...|   82|3.656502778050281...|\n",
      "|            Remanded|  289|0.001288694271776...|\n",
      "|Show Cause Dismissed|  114|5.083430691435757E-4|\n",
      "|No Longer Under A...|  234|0.001043441036663...|\n",
      "|                null|    0|                 0.0|\n",
      "|Revoked - Sentenc...|34714| 0.15479492370394812|\n",
      "| Granted As Modified|  121| 5.39557117248883E-4|\n",
      "|      Bond Forfeited|   79|3.522728286170393E-4|\n",
      "|Drug Court, Conti...|   82|3.656502778050281...|\n",
      "| Presentence Ordered|    3|1.337744918798883...|\n",
      "|True Bill Capias ...|    1|4.459149729329611...|\n",
      "|            Mistrial|  184|8.204835501966485E-4|\n",
      "| Continued Generally|  446|0.001988780779281007|\n",
      "|Bond Forfeiture Paid|   19|8.472384485726262E-5|\n",
      "|         Bond Denied| 3481|0.015522300207796377|\n",
      "|Carried Over On R...|    5|2.229574864664805...|\n",
      "|              Denied| 2346|0.010461165265007268|\n",
      "|Drug Court, Revoc...|   91|4.057826253689946...|\n",
      "|        Bond Revoked|   21|9.364214431592184E-5|\n",
      "|Bench Warrant Issued|  321|0.001431387063114...|\n",
      "|    Under Advisement|  132|5.886077642715087E-4|\n",
      "|       Not True Bill|  356|0.001587457303641...|\n",
      "|Drug Court, Termi...|   43|1.917434383611732...|\n",
      "|Capias-Defendant ...|  314|0.001400173015009498|\n",
      "|               Tried|  145|6.465767107527937E-4|\n",
      "|Merging Charges/C...|   92|4.102417750983243E-4|\n",
      "|  Bond Not Forfeited|   17|7.580554539860339E-5|\n",
      "|    Appeal Withdrawn| 2232|0.009952822195863693|\n",
      "|           Sentenced|67007| 0.29879424591318926|\n",
      "|Drug Court, Conti...|    1|4.459149729329611...|\n",
      "+--------------------+-----+--------------------+\n",
      "only showing top 40 rows\n",
      "\n"
     ]
    }
   ],
   "source": [
    "hear = circuit.groupBy('HearingResult').agg(F.count(circuit.HearingResult).alias('count'))\n",
    "\n",
    "hear.withColumn('percent', hear['count']/nrows_cir).show(40)"
   ]
  },
  {
   "cell_type": "code",
   "execution_count": 74,
   "metadata": {},
   "outputs": [
    {
     "name": "stdout",
     "output_type": "stream",
     "text": [
      "+-------------+-------+--------------------+\n",
      "|HearingResult|  count|             percent|\n",
      "+-------------+-------+--------------------+\n",
      "|    Finalized|1333902|  0.6850830942556647|\n",
      "|    Continued|    151|7.755258424727257E-5|\n",
      "|       Waived| 552689| 0.28385735254993927|\n",
      "|         null|      0|                 0.0|\n",
      "+-------------+-------+--------------------+\n",
      "\n"
     ]
    }
   ],
   "source": [
    "hear = district.groupBy('HearingResult').agg(F.count(district.HearingResult).alias('count'))\n",
    "\n",
    "hear.withColumn('percent', hear['count']/nrows_dis).show()"
   ]
  },
  {
   "cell_type": "markdown",
   "metadata": {},
   "source": [
    "## Predictor Variables\n",
    "\n",
    "These may change somewhat, but the likely candidates for predictor variables are `Gender`, `Race`, `ChargeType`, `Class`, `ProbationType`, `Fine`, and `Costs`.\n",
    "\n",
    "Statistical summary of potential predictor variables:"
   ]
  },
  {
   "cell_type": "markdown",
   "metadata": {},
   "source": [
    "#### Gender"
   ]
  },
  {
   "cell_type": "code",
   "execution_count": 27,
   "metadata": {},
   "outputs": [],
   "source": [
    "import numpy as np"
   ]
  },
  {
   "cell_type": "code",
   "execution_count": 22,
   "metadata": {},
   "outputs": [],
   "source": [
    "nrows_cir = circuit.count()\n",
    "nrows_dis = district.count()"
   ]
  },
  {
   "cell_type": "code",
   "execution_count": 33,
   "metadata": {},
   "outputs": [
    {
     "name": "stdout",
     "output_type": "stream",
     "text": [
      "+------+------+------------------+\n",
      "|   Sex| count|           percent|\n",
      "+------+------+------------------+\n",
      "|Female| 58850|0.2624209615710476|\n",
      "|  Male|165408|0.7375790384289523|\n",
      "+------+------+------------------+\n",
      "\n"
     ]
    }
   ],
   "source": [
    "sex = circuit.groupBy('Sex').agg(F.count(circuit.Sex).alias('count'))\n",
    "\n",
    "sex.withColumn('percent', sex['count']/nrows_cir).show()"
   ]
  },
  {
   "cell_type": "markdown",
   "metadata": {},
   "source": [
    "#### Race"
   ]
  },
  {
   "cell_type": "code",
   "execution_count": 36,
   "metadata": {},
   "outputs": [
    {
     "name": "stdout",
     "output_type": "stream",
     "text": [
      "+--------------------+------+--------------------+\n",
      "|                Race| count|             percent|\n",
      "+--------------------+------+--------------------+\n",
      "|                null|     0|                 0.0|\n",
      "|             Unknown|    15|6.688724593994418E-5|\n",
      "|Other (Includes N...|  2336|0.010416573767713972|\n",
      "|American Indian O...|    84|3.745685772636873...|\n",
      "|               White|130997|  0.5841352370929911|\n",
      "|Asian Or Pacific ...|   775|0.003455841040230449|\n",
      "|               Black| 88472|  0.3945098948532494|\n",
      "|            Hispanic|  1033|0.004606301670397...|\n",
      "+--------------------+------+--------------------+\n",
      "\n"
     ]
    }
   ],
   "source": [
    "race = circuit.groupBy('Race').agg(F.count(circuit.Race).alias('count'))\n",
    "\n",
    "race.withColumn('percent', race['count']/nrows_cir).show()"
   ]
  },
  {
   "cell_type": "code",
   "execution_count": 63,
   "metadata": {},
   "outputs": [],
   "source": [
    "district = district.filter(district.Race !='83/55 RECKLESS')\\\n",
    "                   .withColumn('Race', F.regexp_replace('Race', '\\(Non-Hispanic\\)', ''))\\\n",
    "                   .withColumn('Race', F.regexp_replace('Race', ' Caucasian', ''))"
   ]
  },
  {
   "cell_type": "code",
   "execution_count": 64,
   "metadata": {},
   "outputs": [
    {
     "name": "stdout",
     "output_type": "stream",
     "text": [
      "+------------------------------------------+-------+---------------------+\n",
      "|Race                                      |count  |percent              |\n",
      "+------------------------------------------+-------+---------------------+\n",
      "|Other(Includes Not Applicable, Unknown)   |24253  |0.01245617765396756  |\n",
      "|Unknown                                   |4883   |0.00250787595284392  |\n",
      "|American Indian                           |3713   |0.001906971823245848 |\n",
      "|White                                     |1137612|0.5842698706669419   |\n",
      "|Asian Or Pacific Islander                 |34325  |0.017629089101242588 |\n",
      "|Black                                     |629338 |0.3232237633444372   |\n",
      "|Hispanic                                  |56566  |0.02905191708961073  |\n",
      "|Unknown (Includes Not Applicable, Unknown)|33145  |0.01702304903891291  |\n",
      "|Asian or Pacific Islander                 |2815   |0.0014457650639474985|\n",
      "|American Indian or Alaskan Native         |340    |1.7462171287465345E-4|\n",
      "+------------------------------------------+-------+---------------------+\n",
      "\n"
     ]
    }
   ],
   "source": [
    "race = district.groupBy('Race').agg(F.count(district.Race).alias('count'))\n",
    "#condense Black/Black (Non-Hispanic), White/White (Non-Hispanic), etc.\n",
    "\n",
    "race.withColumn('percent', race['count']/nrows_dis).show(20, False)"
   ]
  },
  {
   "cell_type": "markdown",
   "metadata": {},
   "source": [
    "#### Charge Type"
   ]
  },
  {
   "cell_type": "code",
   "execution_count": 43,
   "metadata": {},
   "outputs": [
    {
     "name": "stdout",
     "output_type": "stream",
     "text": [
      "+--------------------+------+--------------------+\n",
      "|          ChargeType| count|             percent|\n",
      "+--------------------+------+--------------------+\n",
      "|          Infraction|  5184|0.023116232196844704|\n",
      "|Other (Animal Vio...|  8554|0.038143566784685494|\n",
      "|               Civil|   922|0.004111336050441902|\n",
      "|              Felony|156994|   0.700059752606373|\n",
      "|         Misdemeanor| 52604| 0.23456911236165487|\n",
      "+--------------------+------+--------------------+\n",
      "\n"
     ]
    }
   ],
   "source": [
    "charge = circuit.groupBy('ChargeType').agg(F.count(circuit.ChargeType).alias('count'))\n",
    "\n",
    "charge.withColumn('percent', charge['count']/nrows_cir).show()"
   ]
  },
  {
   "cell_type": "markdown",
   "metadata": {},
   "source": [
    "#### Class"
   ]
  },
  {
   "cell_type": "code",
   "execution_count": 48,
   "metadata": {},
   "outputs": [
    {
     "name": "stdout",
     "output_type": "stream",
     "text": [
      "+-----+-----+--------------------+\n",
      "|Class|count|             percent|\n",
      "+-----+-----+--------------------+\n",
      "|    3| 2155|0.009609467666705312|\n",
      "| null|    0|                 0.0|\n",
      "|    5|31084| 0.13860821018648165|\n",
      "|    U|98010| 0.43704126497159523|\n",
      "|    6|25690| 0.11455555654647771|\n",
      "|    O|    1|4.459149729329611...|\n",
      "|    1|26766| 0.11935360165523638|\n",
      "|    4| 3784| 0.01687342257578325|\n",
      "|    2| 2686|0.011977276172979336|\n",
      "+-----+-----+--------------------+\n",
      "\n"
     ]
    }
   ],
   "source": [
    "classes = circuit.groupBy('Class').agg(F.count(circuit.Class).alias('count'))\n",
    "\n",
    "classes.withColumn('percent', classes['count']/nrows_cir).show()"
   ]
  },
  {
   "cell_type": "markdown",
   "metadata": {},
   "source": [
    "#### Probation Type"
   ]
  },
  {
   "cell_type": "code",
   "execution_count": 49,
   "metadata": {},
   "outputs": [
    {
     "name": "stdout",
     "output_type": "stream",
     "text": [
      "+--------------------+-----+-------------------+\n",
      "|       ProbationType|count|            percent|\n",
      "+--------------------+-----+-------------------+\n",
      "|                null|    0|                0.0|\n",
      "|        Unsupervised| 9489|0.04231287178160868|\n",
      "|          Supervised|52419| 0.2337441696617289|\n",
      "|Indefinite Superv...|16688|0.07441429068305255|\n",
      "+--------------------+-----+-------------------+\n",
      "\n"
     ]
    }
   ],
   "source": [
    "prob = circuit.groupBy('ProbationType').agg(F.count(circuit.ProbationType).alias('count'))\n",
    "\n",
    "prob.withColumn('percent', prob['count']/nrows_cir).show()"
   ]
  },
  {
   "cell_type": "markdown",
   "metadata": {},
   "source": [
    "#### Fine & Costs"
   ]
  },
  {
   "cell_type": "code",
   "execution_count": 65,
   "metadata": {},
   "outputs": [
    {
     "name": "stdout",
     "output_type": "stream",
     "text": [
      "+--------------------+------------------+-----------------+\n",
      "|                Race|         avg(Fine)|       avg(Costs)|\n",
      "+--------------------+------------------+-----------------+\n",
      "|Other(Includes No...|103.99564165792236|71.32545082362007|\n",
      "|             Unknown|113.64484071045955|75.51939386123293|\n",
      "|     American Indian|  95.4077966101695|69.84914050594331|\n",
      "|               White| 85.47213935652373| 79.8888643647289|\n",
      "|Asian Or Pacific ...| 84.76658831003812|71.60810133553628|\n",
      "|               Black| 92.96001548550943|89.56583856645187|\n",
      "|            Hispanic|103.44900140616073|70.12301535445933|\n",
      "|Unknown (Includes...|110.01148462864244|75.60034672679554|\n",
      "|Asian or Pacific ...| 86.15861137440758|71.67251275510205|\n",
      "|American Indian o...| 99.68996124031008|68.43462897526501|\n",
      "+--------------------+------------------+-----------------+\n",
      "\n"
     ]
    }
   ],
   "source": [
    "fines = district.groupBy('Race').agg(F.avg(district.Fine), F.avg(district.Costs))\n",
    "fines.show()"
   ]
  },
  {
   "cell_type": "code",
   "execution_count": 66,
   "metadata": {},
   "outputs": [],
   "source": [
    "fines_pd = fines.toPandas()\n",
    "fines_pd = fines_pd[fines_pd['Race']!='83/55 RECKLESS']"
   ]
  },
  {
   "cell_type": "code",
   "execution_count": 67,
   "metadata": {},
   "outputs": [],
   "source": [
    "fines_pd = fines_pd[~fines_pd['Race'].isnull()]"
   ]
  },
  {
   "cell_type": "code",
   "execution_count": 70,
   "metadata": {},
   "outputs": [
    {
     "data": {
      "image/png": "[encoded data removed]",
      "text/plain": [
       "<Figure size 432x288 with 1 Axes>"
      ]
     },
     "metadata": {
      "needs_background": "light"
     },
     "output_type": "display_data"
    }
   ],
   "source": [
    "plt.bar(fines_pd['Race'], fines_pd['avg(Fine)'])\n",
    "plt.xticks(rotation=90)\n",
    "plt.show()"
   ]
  },
  {
   "cell_type": "markdown",
   "metadata": {},
   "source": [
    "Whites have the lowest average fine of any racial group."
   ]
  },
  {
   "cell_type": "code",
   "execution_count": 71,
   "metadata": {},
   "outputs": [
    {
     "data": {
      "image/png": "[encoded data removed]",
      "text/plain": [
       "<Figure size 432x288 with 1 Axes>"
      ]
     },
     "metadata": {
      "needs_background": "light"
     },
     "output_type": "display_data"
    }
   ],
   "source": [
    "plt.bar(fines_pd['Race'], fines_pd['avg(Costs)'])\n",
    "plt.xticks(rotation=90)\n",
    "plt.show()"
   ]
  }
 ],
 "metadata": {
  "kernelspec": {
   "display_name": "DS 5559",
   "language": "python",
   "name": "ds5559"
  },
  "language_info": {
   "codemirror_mode": {
    "name": "ipython",
    "version": 3
   },
   "file_extension": ".py",
   "mimetype": "text/x-python",
   "name": "python",
   "nbconvert_exporter": "python",
   "pygments_lexer": "ipython3",
   "version": "3.7.6"
  }
 },
 "nbformat": 4,
 "nbformat_minor": 4
}
