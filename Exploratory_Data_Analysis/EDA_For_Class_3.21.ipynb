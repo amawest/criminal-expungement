{
 "cells": [
  {
   "cell_type": "markdown",
   "metadata": {},
   "source": [
    "# Final Project EDA\n",
    "\n",
    "Gaurav Anand (ga7er), Shannon Paylor (sep4hy), Amanda West (acw9gs)\n",
    "\n",
    "**Questions of Interest:**\n",
    "1. Number of records ✔️ \n",
    "2. Number of columns ✔️ \n",
    "3. Statistical summary of response variable ✔️ \n",
    "    * Note: Summarize categorical variables with counts and percentages for each level and summarize numerical variables with mean/quantiles/standard deviation. \n",
    "4. Statistical summary of potential predictor variables (if there are a large number of predictors, select the top 10) ✔️ \n",
    "    * Note: Summarize categorical variables with counts and percentages for each level and summarize numerical variables with mean/quantiles/standard deviation. \n",
    "6. Include up to five helpful graphs  ✔️ \n",
    "\n",
    "\n",
    "## Data\n",
    "\n",
    "* For our project, we are using [Virginia Court Data](http://virginiacourtdata.org) from a Code for Charlottesville project with the LAJC. \n",
    "* For our EDA, we only looked at data from 2019 circuit and district criminal court cases."
   ]
  },
  {
   "cell_type": "code",
   "execution_count": 1,
   "metadata": {},
   "outputs": [],
   "source": [
    "from pyspark.sql import SparkSession\n",
    "from pyspark.sql.types import StructType, StructField, StringType, IntegerType, DoubleType\n",
    "from pyspark.sql import functions as F\n",
    "import pandas as pd\n",
    "import numpy as np\n",
    "import matplotlib.pyplot as plt\n",
    "import json\n",
    "import os"
   ]
  },
  {
   "cell_type": "code",
   "execution_count": 2,
   "metadata": {},
   "outputs": [],
   "source": [
    "spark = SparkSession.builder.getOrCreate()"
   ]
  },
  {
   "cell_type": "code",
   "execution_count": 3,
   "metadata": {},
   "outputs": [],
   "source": [
    "district = spark.read\\\n",
    "                .format(\"csv\")\\\n",
    "                .option(\"header\", \"true\")\\\n",
    "                .load(\"district_criminal_2019_anon_00.csv\")\n",
    "circuit  = spark.read\\\n",
    "                .format(\"csv\")\\\n",
    "                .option(\"header\", \"true\")\\\n",
    "                .load(\"circuit_criminal_2019.csv\")"
   ]
  },
  {
   "cell_type": "code",
   "execution_count": 4,
   "metadata": {},
   "outputs": [],
   "source": [
    "# most fields are strings, but wanted to create schema so that a few columns are numeric\n",
    "# set up for districts, but I think circuit is also the same?\n",
    "fields = []\n",
    "for f in json.loads(district.schema.json())[\"fields\"]:\n",
    "    if f[\"name\"] in ['Fine', 'Costs', 'FineCostsDue', 'FineCostsPaid']:\n",
    "        fields.append(StructField(f[\"name\"], DoubleType(), True))\n",
    "    else:\n",
    "        fields.append(StructField.fromJson(f))\n",
    "\n",
    "schema = StructType(fields)"
   ]
  },
  {
   "cell_type": "code",
   "execution_count": 5,
   "metadata": {},
   "outputs": [],
   "source": [
    "district = spark.read.schema(schema)\\\n",
    "                .format(\"csv\")\\\n",
    "                .option(\"header\", \"true\")\\\n",
    "                .load(\"district_criminal_2019_anon_*.csv\")\n",
    "court = spark.read.schema(schema)\\\n",
    "                .format(\"csv\")\\\n",
    "                .option(\"header\", \"true\")\\\n",
    "                .load(\"circuit_criminal_2019.csv\")"
   ]
  },
  {
   "cell_type": "markdown",
   "metadata": {},
   "source": [
    "### 1. Number of records:"
   ]
  },
  {
   "cell_type": "code",
   "execution_count": 6,
   "metadata": {},
   "outputs": [
    {
     "data": {
      "text/plain": [
       "78121"
      ]
     },
     "execution_count": 6,
     "metadata": {},
     "output_type": "execute_result"
    }
   ],
   "source": [
    "circuit.count()"
   ]
  },
  {
   "cell_type": "code",
   "execution_count": 7,
   "metadata": {},
   "outputs": [
    {
     "data": {
      "text/plain": [
       "76171"
      ]
     },
     "execution_count": 7,
     "metadata": {},
     "output_type": "execute_result"
    }
   ],
   "source": [
    "district.count()"
   ]
  },
  {
   "cell_type": "markdown",
   "metadata": {},
   "source": [
    "### 2. Number of columns:"
   ]
  },
  {
   "cell_type": "code",
   "execution_count": 8,
   "metadata": {},
   "outputs": [
    {
     "data": {
      "text/plain": [
       "50"
      ]
     },
     "execution_count": 8,
     "metadata": {},
     "output_type": "execute_result"
    }
   ],
   "source": [
    "len(circuit.columns)"
   ]
  },
  {
   "cell_type": "code",
   "execution_count": 9,
   "metadata": {},
   "outputs": [
    {
     "data": {
      "text/plain": [
       "42"
      ]
     },
     "execution_count": 9,
     "metadata": {},
     "output_type": "execute_result"
    }
   ],
   "source": [
    "len(district.columns)"
   ]
  },
  {
   "cell_type": "markdown",
   "metadata": {},
   "source": [
    "### 3. Statistical summary of response variable\n",
    "\n",
    "We haven't yet decided what we will use as our response variable, as the Code for Charlottesville goals for the project are more focused on descriptive statistics. At the moment, the most probable choice for response variable is `HearingResult`.\n",
    "\n",
    "Statistical summary of response variable for circuit criminal court in 2019 (both are categorical, so we broke down by count/percentages):"
   ]
  },
  {
   "cell_type": "code",
   "execution_count": 10,
   "metadata": {},
   "outputs": [
    {
     "name": "stdout",
     "output_type": "stream",
     "text": [
      "+--------------------+-----+--------------------+\n",
      "|       HearingResult|count|             percent|\n",
      "+--------------------+-----+--------------------+\n",
      "|Deferred Disposition|   31|3.968203172002406...|\n",
      "|Not Guilty By Rea...|   17|2.176111416904545...|\n",
      "|Stet Process Dock...|  223|0.002854546152763...|\n",
      "|           Continued|    1|1.280065539355615E-5|\n",
      "|Drug Court, Conti...|    7|8.960458775489305E-5|\n",
      "|        Carried Over|    7|8.960458775489305E-5|\n",
      "|             Not Set|  574| 0.00734757619590123|\n",
      "|        Joint Motion|    2| 2.56013107871123E-5|\n",
      "|Ordered Into Drug...|   40| 5.12026215742246E-4|\n",
      "|           True Bill|   73|9.344478437295989E-4|\n",
      "|Drug Court, Compl...|   40| 5.12026215742246E-4|\n",
      "|            Remanded|   96|0.001228862917781...|\n",
      "|Show Cause Dismissed|   41|5.248268711358021E-4|\n",
      "|No Longer Under A...|  117|0.001497676681046...|\n",
      "|                null|    0|                 0.0|\n",
      "|Revoked - Sentenc...|12542| 0.16054581994598124|\n",
      "| Granted As Modified|   10|1.280065539355615E-4|\n",
      "|      Bond Forfeited|   27|3.456176956260160...|\n",
      "|Drug Court, Conti...|   26|3.328170402324599E-4|\n",
      "| Presentence Ordered|    1|1.280065539355615E-5|\n",
      "|True Bill Capias ...|    1|1.280065539355615E-5|\n",
      "|            Mistrial|  103|0.001318467505536...|\n",
      "| Continued Generally|  137|0.001753689788917...|\n",
      "|         Bond Denied| 1225|0.015680802857106282|\n",
      "|Carried Over On R...|    1|1.280065539355615E-5|\n",
      "|              Denied|  884|0.011315779367903636|\n",
      "|Drug Court, Revoc...|   39|4.992255603486898E-4|\n",
      "|        Bond Revoked|    6| 7.68039323613369E-5|\n",
      "|Bench Warrant Issued|  127|0.001625683234981631|\n",
      "|    Under Advisement|   40| 5.12026215742246E-4|\n",
      "|       Not True Bill|  102|0.001305666850142...|\n",
      "|Drug Court, Termi...|    3|3.840196618066845E-5|\n",
      "|Capias-Defendant ...|  121|0.001548879302620...|\n",
      "|               Tried|   55|7.040360466455882E-4|\n",
      "|Merging Charges/C...|   52|6.656340804649198E-4|\n",
      "|    Appeal Withdrawn|  826| 0.01057334135507738|\n",
      "|           Sentenced|21003|  0.2688521652308598|\n",
      "|Resolved Order Pe...|  141|0.001804892410491...|\n",
      "|Disposed Of In Ad...|   29|3.712190064131283E-4|\n",
      "|Judgment Entered ...|  814|0.010419733490354707|\n",
      "+--------------------+-----+--------------------+\n",
      "only showing top 40 rows\n",
      "\n"
     ]
    }
   ],
   "source": [
    "nrows_cir = circuit.count()\n",
    "hear = circuit.groupBy('HearingResult').agg(F.count(circuit.HearingResult).alias('count'))\n",
    "hear.withColumn('percent', hear['count']/nrows_cir).show(40)"
   ]
  },
  {
   "cell_type": "markdown",
   "metadata": {},
   "source": [
    "Statistical summary of response variable for circuit district court in 2019:"
   ]
  },
  {
   "cell_type": "code",
   "execution_count": 11,
   "metadata": {},
   "outputs": [
    {
     "name": "stdout",
     "output_type": "stream",
     "text": [
      "+-------------+-----+--------------------+\n",
      "|HearingResult|count|             percent|\n",
      "+-------------+-----+--------------------+\n",
      "|    Finalized|50364|  0.6611965183600058|\n",
      "|    Continued|    3|3.938506780795841E-5|\n",
      "|       Waived|25440|  0.3339853750114873|\n",
      "|         null|    0|                 0.0|\n",
      "+-------------+-----+--------------------+\n",
      "\n"
     ]
    }
   ],
   "source": [
    "nrows_dis = district.count()\n",
    "hear = district.groupBy('HearingResult').agg(F.count(district.HearingResult).alias('count'))\n",
    "hear.withColumn('percent', hear['count']/nrows_dis).show()"
   ]
  },
  {
   "cell_type": "markdown",
   "metadata": {},
   "source": [
    "**Notes:** As we can see here, it appears that the HearingResult variable is different for district vs. circuit. For district, there are only 4 output options, whereas for circuit the data is much more into the specifics. This is an important finding for us to keep in mind if we choose to using HearingResult as a potential response variable."
   ]
  },
  {
   "cell_type": "markdown",
   "metadata": {},
   "source": [
    "### 4. Statistical summary of potential predictor variables (if there are a large number of predictors, select the top 10)\n",
    "\n",
    "\n",
    "These may change somewhat, but the likely candidates for predictor variables are:\n",
    "* `Gender`\n",
    "* `Race`\n",
    "* `ChargeType`\n",
    "* `Class`\n",
    "* `ProbationType`\n",
    "* `Fine`\n",
    "* `Costs`\n",
    "\n",
    "Statistical summary of potential predictor variables:"
   ]
  },
  {
   "cell_type": "markdown",
   "metadata": {},
   "source": [
    "#### 4.a) Gender (Categorical)"
   ]
  },
  {
   "cell_type": "code",
   "execution_count": 12,
   "metadata": {},
   "outputs": [
    {
     "name": "stdout",
     "output_type": "stream",
     "text": [
      "+------+-----+-------------------+\n",
      "|   Sex|count|            percent|\n",
      "+------+-----+-------------------+\n",
      "|  null|    0|                0.0|\n",
      "|Female|21837|0.27952791182908565|\n",
      "|  Male|56283| 0.7204592875155208|\n",
      "+------+-----+-------------------+\n",
      "\n"
     ]
    }
   ],
   "source": [
    "sex = circuit.groupBy('Sex').agg(F.count(circuit.Sex).alias('count'))\n",
    "sex.withColumn('percent', sex['count']/nrows_cir).show()"
   ]
  },
  {
   "cell_type": "code",
   "execution_count": 13,
   "metadata": {},
   "outputs": [
    {
     "name": "stdout",
     "output_type": "stream",
     "text": [
      "+------+-----+------------------+\n",
      "|Gender|count|           percent|\n",
      "+------+-----+------------------+\n",
      "|  null|    0|               0.0|\n",
      "|Female|26031|0.3417442333696551|\n",
      "|  Male|50139|0.6582426382744089|\n",
      "+------+-----+------------------+\n",
      "\n"
     ]
    }
   ],
   "source": [
    "sex = district.groupBy('Gender').agg(F.count(district.Gender).alias('count'))\n",
    "sex.withColumn('percent', sex['count']/nrows_dis).show()"
   ]
  },
  {
   "cell_type": "markdown",
   "metadata": {},
   "source": [
    "**Note:** sex corresponds to circuit and gender corresponds to district data."
   ]
  },
  {
   "cell_type": "markdown",
   "metadata": {},
   "source": [
    "#### 4.b) Race (Categorical)\n",
    "\n",
    "Circuit:"
   ]
  },
  {
   "cell_type": "code",
   "execution_count": 38,
   "metadata": {},
   "outputs": [
    {
     "name": "stdout",
     "output_type": "stream",
     "text": [
      "+----------------------------------------+-----+---------------------+\n",
      "|Race                                    |count|percent              |\n",
      "+----------------------------------------+-----+---------------------+\n",
      "|null                                    |0    |0.0                  |\n",
      "|Unknown                                 |3    |3.840196618066845E-5 |\n",
      "|Other (Includes Not Applicable, Unknown)|885  |0.011328580023297194 |\n",
      "|American Indian Or Alaskan Native       |38   |4.8642490495513373E-4|\n",
      "|White                                   |43890|0.5618207652231795   |\n",
      "|Asian Or Pacific Islander               |260  |0.003328170402324599 |\n",
      "|Black                                   |32401|0.4147540354066128   |\n",
      "|Hispanic                                |368  |0.0047106411848286634|\n",
      "+----------------------------------------+-----+---------------------+\n",
      "\n"
     ]
    }
   ],
   "source": [
    "race = circuit.groupBy('Race').agg(F.count(circuit.Race).alias('count'))\n",
    "race.withColumn('percent', race['count']/nrows_cir).show(truncate=False)"
   ]
  },
  {
   "cell_type": "markdown",
   "metadata": {},
   "source": [
    "District:"
   ]
  },
  {
   "cell_type": "code",
   "execution_count": 39,
   "metadata": {},
   "outputs": [],
   "source": [
    "district = district.filter(district.Race !='83/55 RECKLESS')\\\n",
    "                   .withColumn('Race', F.regexp_replace('Race', '\\(Non-Hispanic\\)', ''))\\\n",
    "                   .withColumn('Race', F.regexp_replace('Race', ' Caucasian', ''))"
   ]
  },
  {
   "cell_type": "code",
   "execution_count": 40,
   "metadata": {},
   "outputs": [
    {
     "name": "stdout",
     "output_type": "stream",
     "text": [
      "+------------------------------------------+-----+---------------------+\n",
      "|Race                                      |count|percent              |\n",
      "+------------------------------------------+-----+---------------------+\n",
      "|Other(Includes Not Applicable, Unknown)   |1183 |0.0155308450722716   |\n",
      "|American Indian                           |36   |4.7262081369550094E-4|\n",
      "|White                                     |41697|0.5474130574628139   |\n",
      "|Asian Or Pacific Islander                 |1123 |0.014743143716112432 |\n",
      "|Hispanic                                  |2068 |0.02714944007561933  |\n",
      "|Black                                     |26866|0.35270641057620356  |\n",
      "|Unknown (Includes Not Applicable, Unknown)|1546 |0.020296438277034565 |\n",
      "+------------------------------------------+-----+---------------------+\n",
      "\n"
     ]
    }
   ],
   "source": [
    "race = district.groupBy('Race').agg(F.count(district.Race).alias('count'))\n",
    "#condense Black/Black (Non-Hispanic), White/White (Non-Hispanic), etc.\n",
    "race.withColumn('percent', race['count']/nrows_dis).show(20, False)"
   ]
  },
  {
   "cell_type": "markdown",
   "metadata": {},
   "source": [
    "#### 4.c) Charge Type (Categorical)\n",
    "\n",
    "Circuit:"
   ]
  },
  {
   "cell_type": "code",
   "execution_count": 50,
   "metadata": {},
   "outputs": [
    {
     "name": "stdout",
     "output_type": "stream",
     "text": [
      "+---------------------------------------+-----+--------------------+\n",
      "|ChargeType                             |count|percent             |\n",
      "+---------------------------------------+-----+--------------------+\n",
      "|null                                   |0    |0.0                 |\n",
      "|Infraction                             |1737 |0.02223473841860703 |\n",
      "|Other (Animal Violations, Bond Appeals)|2994 |0.038325162248307114|\n",
      "|Civil                                  |359  |0.004595435286286658|\n",
      "|Felony                                 |55235|0.7070442006630739  |\n",
      "|Misdemeanor                            |17795|0.2277876627283317  |\n",
      "+---------------------------------------+-----+--------------------+\n",
      "\n"
     ]
    }
   ],
   "source": [
    "charge = circuit.groupBy('ChargeType').agg(F.count(circuit.ChargeType).alias('count'))\n",
    "charge.withColumn('percent', charge['count']/nrows_cir).show(truncate=False)"
   ]
  },
  {
   "cell_type": "markdown",
   "metadata": {},
   "source": [
    "District:"
   ]
  },
  {
   "cell_type": "code",
   "execution_count": 51,
   "metadata": {},
   "outputs": [
    {
     "name": "stdout",
     "output_type": "stream",
     "text": [
      "+-----------------------------------------------------+-----+---------------------+\n",
      "|CaseType                                             |count|percent              |\n",
      "+-----------------------------------------------------+-----+---------------------+\n",
      "|Capias                                               |1116 |0.014651245224560528 |\n",
      "|Show Cause                                           |880  |0.0115529532236678   |\n",
      "|Other                                                |251  |0.00329521733993252  |\n",
      "|Infraction                                           |52001|0.6826876370272151   |\n",
      "|Civil Violation                                      |156  |0.0020480235260138375|\n",
      "|Motion [18.2-271.1(E)]                               |4    |5.2513423743944546E-5|\n",
      "|Restricted Operator's License For Fine and Costs Only|138  |0.0018117131191660869|\n",
      "|Felony                                               |3091 |0.04057974819813315  |\n",
      "|Misdemeanor                                          |16882|0.22163290491131796  |\n",
      "+-----------------------------------------------------+-----+---------------------+\n",
      "\n"
     ]
    }
   ],
   "source": [
    "charge = district.groupBy('CaseType').agg(F.count(district.CaseType).alias('count'))\n",
    "charge.withColumn('percent', charge['count']/nrows_dis).show(truncate=False)"
   ]
  },
  {
   "cell_type": "markdown",
   "metadata": {},
   "source": [
    "#### 4.d) Class (Categorical)"
   ]
  },
  {
   "cell_type": "code",
   "execution_count": 18,
   "metadata": {},
   "outputs": [
    {
     "name": "stdout",
     "output_type": "stream",
     "text": [
      "+-----+-----+--------------------+\n",
      "|Class|count|             percent|\n",
      "+-----+-----+--------------------+\n",
      "|    3|  801|0.010253324970238476|\n",
      "| null|    0|                 0.0|\n",
      "|    5|11228| 0.14372575875884847|\n",
      "|    U|33117|   0.423919304668399|\n",
      "|    6| 9762| 0.12495999795189514|\n",
      "|    O|    1|1.280065539355615E-5|\n",
      "|    1| 9280| 0.11879008205220107|\n",
      "|    4| 1387| 0.01775450903086238|\n",
      "|    2|  946|0.012109420002304118|\n",
      "+-----+-----+--------------------+\n",
      "\n"
     ]
    }
   ],
   "source": [
    "classes = circuit.groupBy('Class').agg(F.count(circuit.Class).alias('count'))\n",
    "classes.withColumn('percent', classes['count']/nrows_cir).show()"
   ]
  },
  {
   "cell_type": "code",
   "execution_count": 53,
   "metadata": {},
   "outputs": [
    {
     "name": "stdout",
     "output_type": "stream",
     "text": [
      "+-----+-----+--------------------+\n",
      "|Class|count|             percent|\n",
      "+-----+-----+--------------------+\n",
      "|    3|  278|0.003649682950204146|\n",
      "| null|    0|                 0.0|\n",
      "|    5|  956|0.012550708274802747|\n",
      "|    U| 2012|0.026414252143204107|\n",
      "|    6|  944|0.012393168003570912|\n",
      "|    O|  889|0.011671108427091676|\n",
      "|    C|    1|1.312835593598613...|\n",
      "|    1| 5257| 0.06901576715547912|\n",
      "|    4|  990|0.012997072376626275|\n",
      "|    2|  409| 0.00536949757781833|\n",
      "+-----+-----+--------------------+\n",
      "\n"
     ]
    }
   ],
   "source": [
    "classes = district.groupBy('Class').agg(F.count(district.Class).alias('count'))\n",
    "classes.withColumn('percent', classes['count']/nrows_dis).show()"
   ]
  },
  {
   "cell_type": "markdown",
   "metadata": {},
   "source": [
    "#### 4.e) Probation Type (Categorical)"
   ]
  },
  {
   "cell_type": "code",
   "execution_count": 57,
   "metadata": {},
   "outputs": [
    {
     "name": "stdout",
     "output_type": "stream",
     "text": [
      "+----------------------+-----+-------------------+\n",
      "|ProbationType         |count|percent            |\n",
      "+----------------------+-----+-------------------+\n",
      "|null                  |0    |0.0                |\n",
      "|Unsupervised          |3483 |0.04458468273575607|\n",
      "|Supervised            |17015|0.2178031515213579 |\n",
      "|Indefinite Supervision|5986 |0.07662472318582711|\n",
      "+----------------------+-----+-------------------+\n",
      "\n"
     ]
    }
   ],
   "source": [
    "prob = circuit.groupBy('ProbationType').agg(F.count(circuit.ProbationType).alias('count'))\n",
    "prob.withColumn('percent', prob['count']/nrows_cir).show(truncate=False)"
   ]
  },
  {
   "cell_type": "code",
   "execution_count": 56,
   "metadata": {},
   "outputs": [
    {
     "name": "stdout",
     "output_type": "stream",
     "text": [
      "+----------------------+-----+--------------------+\n",
      "|ProbationType         |count|percent             |\n",
      "+----------------------+-----+--------------------+\n",
      "|null                  |0    |0.0                 |\n",
      "|Supervised Probation  |19   |2.494387627837366E-4|\n",
      "|Unsupervised Probation|406  |0.005330112510010371|\n",
      "+----------------------+-----+--------------------+\n",
      "\n"
     ]
    }
   ],
   "source": [
    "prob = district.groupBy('ProbationType').agg(F.count(district.ProbationType).alias('count'))\n",
    "prob.withColumn('percent', prob['count']/nrows_dis).show(truncate=False)"
   ]
  },
  {
   "cell_type": "markdown",
   "metadata": {},
   "source": [
    "#### 4.f) and 4.g) Fine & Costs (Continuous)\n",
    "\n",
    "Overall:"
   ]
  },
  {
   "cell_type": "code",
   "execution_count": 29,
   "metadata": {},
   "outputs": [
    {
     "name": "stdout",
     "output_type": "stream",
     "text": [
      "+-------+-----------------+------------------+\n",
      "|summary|             Fine|             Costs|\n",
      "+-------+-----------------+------------------+\n",
      "|  count|            50178|             57572|\n",
      "|   mean|86.31523675714455| 78.46845775724312|\n",
      "| stddev|77.30368826494752|50.050129400102854|\n",
      "|    min|              0.0|               0.0|\n",
      "|    max|           2500.0|           1321.23|\n",
      "+-------+-----------------+------------------+\n",
      "\n"
     ]
    }
   ],
   "source": [
    "fines = district.select([\"Fine\", \"Costs\"]).describe()\n",
    "fines.show()"
   ]
  },
  {
   "cell_type": "code",
   "execution_count": 31,
   "metadata": {},
   "outputs": [
    {
     "name": "stdout",
     "output_type": "stream",
     "text": [
      "+-------+------------------+-----------------+\n",
      "|summary|        FineAmount|            Costs|\n",
      "+-------+------------------+-----------------+\n",
      "|  count|             28489|            28783|\n",
      "|   mean|104.68363929937871|892.8257714623226|\n",
      "| stddev| 3352.456667889231|2373.465888231958|\n",
      "|    min|                 0|                0|\n",
      "|    max|                97|             9997|\n",
      "+-------+------------------+-----------------+\n",
      "\n"
     ]
    }
   ],
   "source": [
    "fines_cir = circuit.select([\"FineAmount\", \"Costs\"]).describe()\n",
    "fines_cir.show()"
   ]
  },
  {
   "cell_type": "markdown",
   "metadata": {},
   "source": [
    "By racial category:"
   ]
  },
  {
   "cell_type": "code",
   "execution_count": 36,
   "metadata": {},
   "outputs": [
    {
     "name": "stdout",
     "output_type": "stream",
     "text": [
      "+------------------------------------------+-----------------+-----------------+\n",
      "|Race                                      |avg(Fine)        |avg(Costs)       |\n",
      "+------------------------------------------+-----------------+-----------------+\n",
      "|Other(Includes Not Applicable, Unknown)   |91.53811149032992|69.50868232890704|\n",
      "|American Indian                           |77.625           |69.84375         |\n",
      "|White                                     |83.84573252016263|74.73989649542249|\n",
      "|Asian Or Pacific Islander                 |86.3281990521327 |71.56690528634361|\n",
      "|Hispanic                                  |92.91497227356747|66.07516201117319|\n",
      "|Black                                     |90.46329929802171|87.95178000763481|\n",
      "|Unknown (Includes Not Applicable, Unknown)|81.01060070671377|71.53420195439739|\n",
      "+------------------------------------------+-----------------+-----------------+\n",
      "\n"
     ]
    }
   ],
   "source": [
    "fines = district.groupBy('Race').agg(F.avg(district.Fine), F.avg(district.Costs))\n",
    "fines.show(truncate=False)"
   ]
  },
  {
   "cell_type": "code",
   "execution_count": 37,
   "metadata": {},
   "outputs": [
    {
     "name": "stdout",
     "output_type": "stream",
     "text": [
      "+----------------------------------------+------------------+------------------+\n",
      "|Race                                    |avg(FineAmount)   |avg(Costs)        |\n",
      "+----------------------------------------+------------------+------------------+\n",
      "|null                                    |7.6923076923076925|446.4984615384615 |\n",
      "|Unknown                                 |0.0               |0.0               |\n",
      "|Other (Includes Not Applicable, Unknown)|137.74186046511628|1043.8318208092487|\n",
      "|American Indian Or Alaskan Native       |98.53333333333333 |512.4333333333333 |\n",
      "|White                                   |133.66357321211345|949.3881723502924 |\n",
      "|Asian Or Pacific Islander               |56.495049504950494|798.7866336633663 |\n",
      "|Black                                   |66.37466486839955 |822.1424598628472 |\n",
      "|Hispanic                                |172.50617283950618|620.5975757575757 |\n",
      "+----------------------------------------+------------------+------------------+\n",
      "\n"
     ]
    }
   ],
   "source": [
    "fines_cir = circuit.groupBy('Race').agg(F.avg(circuit.FineAmount), F.avg(circuit.Costs))\n",
    "fines_cir.show(truncate=False)"
   ]
  },
  {
   "cell_type": "markdown",
   "metadata": {},
   "source": [
    "### 5. Include up to five helpful graphs\n",
    "\n",
    "First, let's look at fines by racial category:"
   ]
  },
  {
   "cell_type": "code",
   "execution_count": 21,
   "metadata": {},
   "outputs": [],
   "source": [
    "fines_pd = fines.toPandas()\n",
    "fines_pd = fines_pd[fines_pd['Race']!='83/55 RECKLESS']"
   ]
  },
  {
   "cell_type": "code",
   "execution_count": 22,
   "metadata": {},
   "outputs": [],
   "source": [
    "fines_pd = fines_pd[~fines_pd['Race'].isnull()]"
   ]
  },
  {
   "cell_type": "code",
   "execution_count": 23,
   "metadata": {},
   "outputs": [
    {
     "data": {
      "image/png": "[encoded data removed]",
      "text/plain": [
       "<Figure size 432x288 with 1 Axes>"
      ]
     },
     "metadata": {
      "needs_background": "light"
     },
     "output_type": "display_data"
    }
   ],
   "source": [
    "plt.bar(fines_pd['Race'], fines_pd['avg(Fine)'])\n",
    "plt.xticks(rotation=90)\n",
    "plt.show()"
   ]
  },
  {
   "cell_type": "markdown",
   "metadata": {},
   "source": [
    "White people have the lowest average fine of any racial group."
   ]
  },
  {
   "cell_type": "code",
   "execution_count": 24,
   "metadata": {},
   "outputs": [
    {
     "data": {
      "image/png": "[encoded data removed]",
      "text/plain": [
       "<Figure size 432x288 with 1 Axes>"
      ]
     },
     "metadata": {
      "needs_background": "light"
     },
     "output_type": "display_data"
    }
   ],
   "source": [
    "plt.bar(fines_pd['Race'], fines_pd['avg(Costs)'])\n",
    "plt.xticks(rotation=90)\n",
    "plt.show()"
   ]
  },
  {
   "cell_type": "code",
   "execution_count": null,
   "metadata": {},
   "outputs": [],
   "source": []
  }
 ],
 "metadata": {
  "kernelspec": {
   "display_name": "DS 5559",
   "language": "python",
   "name": "ds5559"
  },
  "language_info": {
   "codemirror_mode": {
    "name": "ipython",
    "version": 3
   },
   "file_extension": ".py",
   "mimetype": "text/x-python",
   "name": "python",
   "nbconvert_exporter": "python",
   "pygments_lexer": "ipython3",
   "version": "3.7.6"
  }
 },
 "nbformat": 4,
 "nbformat_minor": 4
}
