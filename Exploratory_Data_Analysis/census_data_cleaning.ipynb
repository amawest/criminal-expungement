{
 "cells": [
  {
   "cell_type": "markdown",
   "metadata": {},
   "source": [
    "# Census Data Processing\n",
    "\n",
    "Virginia census data by race/county downloaded [here](https://www.census.gov/data/datasets/time-series/demo/popest/2010s-counties-detail.html), with the data dictionary available [here](https://www2.census.gov/programs-surveys/popest/technical-documentation/file-layouts/2010-2019/cc-est2019-alldata.pdf). We downloaded  the data titled \"Annual County Resident Population Estimates by Age, Sex, Race, and Hispanic Origin: April 1, 2010 to July 1, 2019 (CC-EST2019-ALLDATA).\""
   ]
  },
  {
   "cell_type": "code",
   "execution_count": 1,
   "metadata": {},
   "outputs": [],
   "source": [
    "import pandas as pd\n",
    "import numpy as np"
   ]
  },
  {
   "cell_type": "code",
   "execution_count": 2,
   "metadata": {},
   "outputs": [],
   "source": [
    "census = pd.read_csv('cc-est2019-alldata-51.csv')"
   ]
  },
  {
   "cell_type": "markdown",
   "metadata": {},
   "source": [
    "From the data dictionary, year 12 is the July 2019 population estimate, year 11 is the July 2018 population estimate, and so on back to year 3, the July 2010 population estimate. Years 1 and 2 are data from the 2010 census. For consistency, we chose to use the July estimates for each year."
   ]
  },
  {
   "cell_type": "code",
   "execution_count": 3,
   "metadata": {},
   "outputs": [],
   "source": [
    "census19 = census[census['YEAR']==12]"
   ]
  },
  {
   "cell_type": "code",
   "execution_count": 4,
   "metadata": {},
   "outputs": [
    {
     "data": {
      "text/plain": [
       "17071038"
      ]
     },
     "execution_count": 4,
     "metadata": {},
     "output_type": "execute_result"
    }
   ],
   "source": [
    "census19['TOT_POP'].sum()"
   ]
  },
  {
   "cell_type": "markdown",
   "metadata": {},
   "source": [
    "After filtering to a single year, the total population is about double what was expected (~8.5 million). After digging into the data dictionary, we discovered that this was due to age group equal to 0 being total population, while age groups 1 to 18 contain the data for each group broken out into 5 year age intervals. For now, we are concerned with county and race, not age, so we will filter to only the total age group entries."
   ]
  },
  {
   "cell_type": "code",
   "execution_count": 5,
   "metadata": {},
   "outputs": [],
   "source": [
    "census19 = census19[census19['AGEGRP']==0]"
   ]
  },
  {
   "cell_type": "code",
   "execution_count": 6,
   "metadata": {},
   "outputs": [
    {
     "data": {
      "text/plain": [
       "8535519"
      ]
     },
     "execution_count": 6,
     "metadata": {},
     "output_type": "execute_result"
    }
   ],
   "source": [
    "census19['TOT_POP'].sum()"
   ]
  },
  {
   "cell_type": "markdown",
   "metadata": {},
   "source": [
    "That aligns with the expected total population of ~8.5 million."
   ]
  },
  {
   "cell_type": "markdown",
   "metadata": {},
   "source": [
    "We actually want the data for all years, but to make joining easier, we did a quick mapping from year code 1-12 to actual years 2010-2019."
   ]
  },
  {
   "cell_type": "code",
   "execution_count": 7,
   "metadata": {},
   "outputs": [],
   "source": [
    "census_clean = census[(census['AGEGRP']==0) & (census['YEAR'] >= 3)].copy()"
   ]
  },
  {
   "cell_type": "code",
   "execution_count": 8,
   "metadata": {},
   "outputs": [
    {
     "data": {
      "text/plain": [
       "array([ 3,  4,  5,  6,  7,  8,  9, 10, 11, 12])"
      ]
     },
     "execution_count": 8,
     "metadata": {},
     "output_type": "execute_result"
    }
   ],
   "source": [
    "census_clean['YEAR'].unique()"
   ]
  },
  {
   "cell_type": "code",
   "execution_count": 9,
   "metadata": {},
   "outputs": [],
   "source": [
    "conditions = [census_clean['YEAR'] == 3, census_clean['YEAR'] == 4, census_clean['YEAR'] == 5, \n",
    "              census_clean['YEAR'] == 6, census_clean['YEAR'] == 7, census_clean['YEAR'] == 8, \n",
    "              census_clean['YEAR'] == 9, census_clean['YEAR'] == 10, census_clean['YEAR'] == 11, \n",
    "              census_clean['YEAR'] == 12]\n",
    "\n",
    "choices = [2010, 2011, 2012, 2013, 2014, 2015, 2016, 2017, 2018, 2019]\n",
    "\n",
    "census_clean['YEAR'] = np.select(conditions, choices)"
   ]
  },
  {
   "cell_type": "code",
   "execution_count": 10,
   "metadata": {},
   "outputs": [],
   "source": [
    "census_clean = census_clean.drop(['SUMLEV', 'AGEGRP'], axis = 1)"
   ]
  },
  {
   "cell_type": "code",
   "execution_count": 11,
   "metadata": {},
   "outputs": [
    {
     "data": {
      "text/html": [
       "<div>\n",
       "<style scoped>\n",
       "    .dataframe tbody tr th:only-of-type {\n",
       "        vertical-align: middle;\n",
       "    }\n",
       "\n",
       "    .dataframe tbody tr th {\n",
       "        vertical-align: top;\n",
       "    }\n",
       "\n",
       "    .dataframe thead th {\n",
       "        text-align: right;\n",
       "    }\n",
       "</style>\n",
       "<table border=\"1\" class=\"dataframe\">\n",
       "  <thead>\n",
       "    <tr style=\"text-align: right;\">\n",
       "      <th></th>\n",
       "      <th>STATE</th>\n",
       "      <th>COUNTY</th>\n",
       "      <th>STNAME</th>\n",
       "      <th>CTYNAME</th>\n",
       "      <th>YEAR</th>\n",
       "      <th>TOT_POP</th>\n",
       "      <th>TOT_MALE</th>\n",
       "      <th>TOT_FEMALE</th>\n",
       "      <th>WA_MALE</th>\n",
       "      <th>WA_FEMALE</th>\n",
       "      <th>...</th>\n",
       "      <th>HWAC_MALE</th>\n",
       "      <th>HWAC_FEMALE</th>\n",
       "      <th>HBAC_MALE</th>\n",
       "      <th>HBAC_FEMALE</th>\n",
       "      <th>HIAC_MALE</th>\n",
       "      <th>HIAC_FEMALE</th>\n",
       "      <th>HAAC_MALE</th>\n",
       "      <th>HAAC_FEMALE</th>\n",
       "      <th>HNAC_MALE</th>\n",
       "      <th>HNAC_FEMALE</th>\n",
       "    </tr>\n",
       "  </thead>\n",
       "  <tbody>\n",
       "    <tr>\n",
       "      <th>38</th>\n",
       "      <td>51</td>\n",
       "      <td>1</td>\n",
       "      <td>Virginia</td>\n",
       "      <td>Accomack County</td>\n",
       "      <td>2010</td>\n",
       "      <td>33148</td>\n",
       "      <td>16152</td>\n",
       "      <td>16996</td>\n",
       "      <td>11341</td>\n",
       "      <td>11496</td>\n",
       "      <td>...</td>\n",
       "      <td>1433</td>\n",
       "      <td>1161</td>\n",
       "      <td>63</td>\n",
       "      <td>56</td>\n",
       "      <td>62</td>\n",
       "      <td>56</td>\n",
       "      <td>7</td>\n",
       "      <td>6</td>\n",
       "      <td>8</td>\n",
       "      <td>9</td>\n",
       "    </tr>\n",
       "    <tr>\n",
       "      <th>57</th>\n",
       "      <td>51</td>\n",
       "      <td>1</td>\n",
       "      <td>Virginia</td>\n",
       "      <td>Accomack County</td>\n",
       "      <td>2011</td>\n",
       "      <td>33225</td>\n",
       "      <td>16225</td>\n",
       "      <td>17000</td>\n",
       "      <td>11348</td>\n",
       "      <td>11478</td>\n",
       "      <td>...</td>\n",
       "      <td>1503</td>\n",
       "      <td>1182</td>\n",
       "      <td>73</td>\n",
       "      <td>63</td>\n",
       "      <td>71</td>\n",
       "      <td>60</td>\n",
       "      <td>8</td>\n",
       "      <td>10</td>\n",
       "      <td>8</td>\n",
       "      <td>10</td>\n",
       "    </tr>\n",
       "    <tr>\n",
       "      <th>76</th>\n",
       "      <td>51</td>\n",
       "      <td>1</td>\n",
       "      <td>Virginia</td>\n",
       "      <td>Accomack County</td>\n",
       "      <td>2012</td>\n",
       "      <td>33268</td>\n",
       "      <td>16275</td>\n",
       "      <td>16993</td>\n",
       "      <td>11321</td>\n",
       "      <td>11463</td>\n",
       "      <td>...</td>\n",
       "      <td>1485</td>\n",
       "      <td>1157</td>\n",
       "      <td>81</td>\n",
       "      <td>79</td>\n",
       "      <td>69</td>\n",
       "      <td>63</td>\n",
       "      <td>9</td>\n",
       "      <td>11</td>\n",
       "      <td>8</td>\n",
       "      <td>9</td>\n",
       "    </tr>\n",
       "    <tr>\n",
       "      <th>95</th>\n",
       "      <td>51</td>\n",
       "      <td>1</td>\n",
       "      <td>Virginia</td>\n",
       "      <td>Accomack County</td>\n",
       "      <td>2013</td>\n",
       "      <td>32969</td>\n",
       "      <td>16092</td>\n",
       "      <td>16877</td>\n",
       "      <td>11171</td>\n",
       "      <td>11390</td>\n",
       "      <td>...</td>\n",
       "      <td>1444</td>\n",
       "      <td>1153</td>\n",
       "      <td>79</td>\n",
       "      <td>87</td>\n",
       "      <td>74</td>\n",
       "      <td>66</td>\n",
       "      <td>8</td>\n",
       "      <td>8</td>\n",
       "      <td>10</td>\n",
       "      <td>9</td>\n",
       "    </tr>\n",
       "    <tr>\n",
       "      <th>114</th>\n",
       "      <td>51</td>\n",
       "      <td>1</td>\n",
       "      <td>Virginia</td>\n",
       "      <td>Accomack County</td>\n",
       "      <td>2014</td>\n",
       "      <td>32971</td>\n",
       "      <td>16076</td>\n",
       "      <td>16895</td>\n",
       "      <td>11114</td>\n",
       "      <td>11409</td>\n",
       "      <td>...</td>\n",
       "      <td>1399</td>\n",
       "      <td>1153</td>\n",
       "      <td>97</td>\n",
       "      <td>94</td>\n",
       "      <td>72</td>\n",
       "      <td>61</td>\n",
       "      <td>9</td>\n",
       "      <td>9</td>\n",
       "      <td>7</td>\n",
       "      <td>10</td>\n",
       "    </tr>\n",
       "  </tbody>\n",
       "</table>\n",
       "<p>5 rows × 78 columns</p>\n",
       "</div>"
      ],
      "text/plain": [
       "     STATE  COUNTY    STNAME          CTYNAME  YEAR  TOT_POP  TOT_MALE  \\\n",
       "38      51       1  Virginia  Accomack County  2010    33148     16152   \n",
       "57      51       1  Virginia  Accomack County  2011    33225     16225   \n",
       "76      51       1  Virginia  Accomack County  2012    33268     16275   \n",
       "95      51       1  Virginia  Accomack County  2013    32969     16092   \n",
       "114     51       1  Virginia  Accomack County  2014    32971     16076   \n",
       "\n",
       "     TOT_FEMALE  WA_MALE  WA_FEMALE  ...  HWAC_MALE  HWAC_FEMALE  HBAC_MALE  \\\n",
       "38        16996    11341      11496  ...       1433         1161         63   \n",
       "57        17000    11348      11478  ...       1503         1182         73   \n",
       "76        16993    11321      11463  ...       1485         1157         81   \n",
       "95        16877    11171      11390  ...       1444         1153         79   \n",
       "114       16895    11114      11409  ...       1399         1153         97   \n",
       "\n",
       "     HBAC_FEMALE  HIAC_MALE  HIAC_FEMALE  HAAC_MALE  HAAC_FEMALE  HNAC_MALE  \\\n",
       "38            56         62           56          7            6          8   \n",
       "57            63         71           60          8           10          8   \n",
       "76            79         69           63          9           11          8   \n",
       "95            87         74           66          8            8         10   \n",
       "114           94         72           61          9            9          7   \n",
       "\n",
       "     HNAC_FEMALE  \n",
       "38             9  \n",
       "57            10  \n",
       "76             9  \n",
       "95             9  \n",
       "114           10  \n",
       "\n",
       "[5 rows x 78 columns]"
      ]
     },
     "execution_count": 11,
     "metadata": {},
     "output_type": "execute_result"
    }
   ],
   "source": [
    "census_clean.head()"
   ]
  },
  {
   "cell_type": "code",
   "execution_count": 12,
   "metadata": {},
   "outputs": [],
   "source": [
    "census_clean.to_csv('va_census_clean.csv')"
   ]
  }
 ],
 "metadata": {
  "kernelspec": {
   "display_name": "Python 3",
   "language": "python",
   "name": "python3"
  },
  "language_info": {
   "codemirror_mode": {
    "name": "ipython",
    "version": 3
   },
   "file_extension": ".py",
   "mimetype": "text/x-python",
   "name": "python",
   "nbconvert_exporter": "python",
   "pygments_lexer": "ipython3",
   "version": "3.7.4"
  }
 },
 "nbformat": 4,
 "nbformat_minor": 4
}
